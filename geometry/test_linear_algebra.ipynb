{
 "cells": [
  {
   "cell_type": "code",
   "execution_count": 1,
   "metadata": {},
   "outputs": [],
   "source": [
    "import linear_algebra as la\n",
    "import numpy as np"
   ]
  },
  {
   "attachments": {},
   "cell_type": "markdown",
   "metadata": {},
   "source": [
    "Test the coordinate system change matrices, for each of left and right."
   ]
  },
  {
   "cell_type": "code",
   "execution_count": 2,
   "metadata": {},
   "outputs": [],
   "source": [
    "for i in range(3):\n",
    "    start_vector = np.array([0, 0, 0])\n",
    "    start_vector[i] = 1\n",
    "\n",
    "    right_target = np.roll(start_vector, 1)\n",
    "    left_target = np.roll(start_vector, -1)\n",
    "\n",
    "    right_vector = la.rotate_coords_right @ (start_vector)\n",
    "    left_vector = la.rotate_coords_left @ (start_vector)\n",
    "\n",
    "    assert right_vector.shape == (3,)\n",
    "    assert left_vector.shape == (3,)\n",
    "\n",
    "    assert all(right_vector == right_target)\n",
    "    assert all(left_vector == left_target)"
   ]
  },
  {
   "attachments": {},
   "cell_type": "markdown",
   "metadata": {},
   "source": [
    "Assert some mathematical facts about the coordinate system change matrices:"
   ]
  },
  {
   "cell_type": "code",
   "execution_count": 3,
   "metadata": {},
   "outputs": [],
   "source": [
    "assert np.array_equal(la.rotate_coords_right @ la.rotate_coords_left, np.eye(3))"
   ]
  },
  {
   "attachments": {},
   "cell_type": "markdown",
   "metadata": {},
   "source": [
    "Test the 2d-rotation matrix."
   ]
  },
  {
   "cell_type": "code",
   "execution_count": 4,
   "metadata": {},
   "outputs": [],
   "source": [
    "angles = np.linspace(-2*np.pi, 2 * np.pi, 100)\n",
    "\n",
    "for angle in angles:\n",
    "    r_mat = la.rotation_matrix_2d(angle)\n",
    "\n",
    "    target = np.array([np.cos(angle), np.sin(angle)])\n",
    "    rotated = r_mat @ np.array([1, 0])\n",
    "\n",
    "for a1 in angles:\n",
    "    for a2 in angles:\n",
    "        r1 = la.rotation_matrix_2d(a1)\n",
    "        r2 = la.rotation_matrix_2d(a2)\n",
    "        r = la.rotation_matrix_2d(a1 + a2)\n",
    "\n",
    "        assert np.isclose(r, r2 @ r1).all()\n",
    "        assert np.isclose(r, r1 @ r2).all()\n",
    "\n",
    "assert np.array_equal(la.rotation_matrix_2d(0), np.eye(2))"
   ]
  },
  {
   "attachments": {},
   "cell_type": "markdown",
   "metadata": {},
   "source": [
    "Test the 3d axis rotations."
   ]
  },
  {
   "cell_type": "code",
   "execution_count": 5,
   "metadata": {},
   "outputs": [],
   "source": [
    "assert np.array_equal(la.rotation_x(0), np.eye(3))\n",
    "assert np.array_equal(la.rotation_y(0), np.eye(3))\n",
    "assert np.array_equal(la.rotation_z(0), np.eye(3))\n",
    "\n",
    "vx = np.array([1, 0, 0])\n",
    "vy = np.array([0, 1, 0])\n",
    "vz = np.array([0, 0, 1])\n",
    "\n",
    "# Check that a 90-degree rotation around each axis works as expected\n",
    "assert np.isclose(la.rotation_z(np.pi / 2) @ vz, vz).all()\n",
    "assert np.isclose(la.rotation_z(np.pi / 2) @ vx, vy).all()\n",
    "assert np.isclose(la.rotation_z(np.pi / 2) @ vy, -vx).all()\n",
    "\n",
    "assert np.isclose(la.rotation_x(np.pi / 2) @ vx, vx).all()\n",
    "assert np.isclose(la.rotation_x(np.pi / 2) @ vy, vz).all()\n",
    "assert np.isclose(la.rotation_x(np.pi / 2) @ vz, -vy).all()\n",
    "\n",
    "assert np.isclose(la.rotation_y(np.pi / 2) @ vx, -vz).all()\n",
    "assert np.isclose(la.rotation_y(np.pi / 2) @ vy, vy).all()\n",
    "assert np.isclose(la.rotation_y(np.pi / 2) @ vz, vx).all()"
   ]
  },
  {
   "attachments": {},
   "cell_type": "markdown",
   "metadata": {},
   "source": [
    "Test the generalized 3d rotation:"
   ]
  },
  {
   "cell_type": "code",
   "execution_count": 6,
   "metadata": {},
   "outputs": [],
   "source": [
    "# Check that for an arbitrary axis an angle of zero produces identity\n",
    "axis = np.array([1, -1, 3])\n",
    "assert np.array_equal(la.rotation_3d(axis, angle = 0), np.eye(3))\n",
    "assert np.array_equal(la.rotation_3d(np.array([0,0,0])), np.eye(3))\n",
    "\n",
    "# Check the two different ways of specifying the rotation\n",
    "assert np.isclose(la.rotation_3d(axis, angle = np.linalg.norm(axis)),\n",
    "                  la.rotation_3d(axis)\n",
    "                ).all()\n",
    "\n",
    "# The rotation should not affect its axis\n",
    "assert np.isclose(la.rotation_3d(axis) @ axis, axis).all()\n",
    "\n",
    "# A few arbitrary rotations to check\n",
    "xy_axis = np.array([1, 1, 0])\n",
    "xy_axis_rot = la.rotation_3d(xy_axis, angle = np.pi / 2) \n",
    "xy_axis_target = np.array([-1, 1, 0]) / np.sqrt(2)\n",
    "assert np.isclose(xy_axis_rot @ vz, xy_axis_target).all()"
   ]
  }
 ],
 "metadata": {
  "kernelspec": {
   "display_name": "Python 3",
   "language": "python",
   "name": "python3"
  },
  "language_info": {
   "codemirror_mode": {
    "name": "ipython",
    "version": 3
   },
   "file_extension": ".py",
   "mimetype": "text/x-python",
   "name": "python",
   "nbconvert_exporter": "python",
   "pygments_lexer": "ipython3",
   "version": "3.10.6"
  },
  "orig_nbformat": 4
 },
 "nbformat": 4,
 "nbformat_minor": 2
}
