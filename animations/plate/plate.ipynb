{
    "cells": [
        {
            "cell_type": "code",
            "execution_count": 1,
            "metadata": {},
            "outputs": [
                {
                    "data": {
                        "text/html": [
                            "<pre style=\"white-space:pre;overflow-x:auto;line-height:normal;font-family:Menlo,'DejaVu Sans Mono',consolas,'Courier New',monospace\">Manim Community <span style=\"color: #008000; text-decoration-color: #008000\">v0.17.2</span>\n",
                            "\n",
                            "</pre>\n"
                        ],
                        "text/plain": [
                            "Manim Community \u001b[32mv0.\u001b[0m\u001b[32m17.2\u001b[0m\n",
                            "\n"
                        ]
                    },
                    "metadata": {},
                    "output_type": "display_data"
                }
            ],
            "source": [
                "import manim as mn\n",
                "\n",
                "from rc_lib import style\n",
                "from rc_lib.math_utils import vector\n",
                "from rc_lib.view_utils import title_sequence\n",
                "from rc_lib.common_mobjects import plate, sketch"
            ]
        },
        {
            "cell_type": "code",
            "execution_count": 2,
            "metadata": {},
            "outputs": [],
            "source": [
                "quality: str = \"m\" # l or m"
            ]
        },
        {
            "cell_type": "code",
            "execution_count": 3,
            "metadata": {},
            "outputs": [],
            "source": [
                "inner_color: style.Color = style.GREEN\n",
                "boundary_color: style.Color = style.BLUE\n",
                "\n",
                "factory: plate.PlateCircleFactory = plate.PlateCircleFactory()\n",
                "factory.set_inner_color(inner_color).set_outer_color(boundary_color)\n",
                "\n",
                "title: title_sequence.TitleSequence = title_sequence.TitleSequence(\n",
                "    default_color=boundary_color\n",
                ")"
            ]
        },
        {
            "cell_type": "code",
            "execution_count": 4,
            "metadata": {},
            "outputs": [
                {
                    "name": "stderr",
                    "output_type": "stream",
                    "text": [
                        "                                                                                                    \r"
                    ]
                },
                {
                    "data": {
                        "text/html": [
                            "<video src=\"media/jupyter/IntakePlateScene@2023-03-17@16-29-14.mp4\" controls autoplay loop style=\"max-width: 60%;\"  >\n",
                            "      Your browser does not support the <code>video</code> element.\n",
                            "    </video>"
                        ],
                        "text/plain": [
                            "<IPython.core.display.Video object>"
                        ]
                    },
                    "metadata": {},
                    "output_type": "display_data"
                }
            ],
            "source": [
                "%%manim -v CRITICAL --format mp4 --disable_caching -q$quality -o plate IntakePlateScene\n",
                "\n",
                "class IntakePlateScene(mn.Scene):\n",
                "    def setup(self):\n",
                "        small_base: plate.PlateCircle = factory.make_generator(0.15, 0.2)\n",
                "        medium_base: plate.PlateCircle = factory.make_generator(0.4, 0.2)\n",
                "\n",
                "        front_hole: vector.Point2d = vector.point_2d(-4, -3)\n",
                "        middle_hole: vector.Point2d = vector.point_2d(-1.5, 0.25)\n",
                "        back_hole: vector.Point2d = vector.point_2d(2.5, 1.5)\n",
                "\n",
                "        points: List[plate.PlateCircle] = [\n",
                "            medium_base(front_hole),\n",
                "            medium_base(middle_hole),\n",
                "            medium_base(back_hole),\n",
                "            small_base(back_hole + vector.vector_2d(0.8, 0.75)),\n",
                "            small_base(back_hole + vector.vector_2d(1, -0.2)),\n",
                "            small_base((middle_hole + back_hole) / 2),\n",
                "            small_base((front_hole + middle_hole) / 2)\n",
                "        ]\n",
                "        boundary_order: List[int] = [1, 3, 4, 0]\n",
                "        self._plate_group: plate.PlateGroup = plate.PlateGroup(points, boundary_order, boundary_color=boundary_color)\n",
                "        title.reset()\n",
                "\n",
                "    def construct(self):\n",
                "        self.play(title.next(\"Draw plate holes\", color=inner_color))\n",
                "        self.play(self._plate_group.draw_inner_circles(lag_ratio=0.5))\n",
                "\n",
                "        self.play(title.next(\"Add larger circles\"))\n",
                "        self.play(self._plate_group.draw_outer_circles(lag_ratio=0.5))\n",
                "\n",
                "        self.play(title.next(\"Connect boundary\"))\n",
                "        self.play(self._plate_group.draw_boundary(lag_ratio=0.75, run_time=5))\n",
                "\n",
                "        # self.play(title.next(\"Trim\", color=boundary_color))\n",
                "        # self.play(plate_group.trim(), run_time=5)\n",
                "\n",
                "        self.wait(style.END_DELAY)"
            ]
        },
        {
            "cell_type": "code",
            "execution_count": 5,
            "metadata": {},
            "outputs": [
                {
                    "name": "stderr",
                    "output_type": "stream",
                    "text": [
                        "                                                                                                    \r"
                    ]
                },
                {
                    "data": {
                        "text/html": [
                            "<video src=\"media/jupyter/BoundaryRedrawScene@2023-03-17@16-29-24.mp4\" controls autoplay loop style=\"max-width: 60%;\"  >\n",
                            "      Your browser does not support the <code>video</code> element.\n",
                            "    </video>"
                        ],
                        "text/plain": [
                            "<IPython.core.display.Video object>"
                        ]
                    },
                    "metadata": {},
                    "output_type": "display_data"
                }
            ],
            "source": [
                "%%manim -v CRITICAL --format mp4 --disable_caching -q$quality -o boundary_redraw BoundaryRedrawScene\n",
                "\n",
                "class BoundaryRedrawScene(mn.Scene):\n",
                "    def setup(self):\n",
                "        generator = factory.make_generator(1.75, 0.75)\n",
                "        self._left: plate.PlateCircle = generator(vector.point_2d(-6, -2))\n",
                "        self._right: plate.PlateCircle = generator(vector.point_2d(6, -2))\n",
                "        self._middle: plate.PlateCircle = factory.make(1, 0.75, vector.point_2d(0, -0.75))\n",
                "\n",
                "        self._line: mn.Line = plate.plate_circle_tangent_line(self._left, self._right, style.RED)\n",
                "        self.add(self._left, self._right, self._line, self._middle.inner_circle)\n",
                "\n",
                "        title.reset()\n",
                "\n",
                "    def construct(self):\n",
                "        self.play(title.next(\"Add outer circle\"))\n",
                "        self.play(mn.GrowFromCenter(self._middle.outer_circle))\n",
                "\n",
                "        self.play(title.next(\"Redraw boundary\"))\n",
                "        self.play(mn.Uncreate(self._line))\n",
                "        self.wait(0.25)\n",
                "        self.play(mn.Create(plate.plate_circle_tangent_line(self._left, self._middle, boundary_color)))\n",
                "        self.play(mn.Create(plate.plate_circle_tangent_line(self._middle, self._right, boundary_color)))\n",
                "\n",
                "        self.wait(style.END_DELAY)"
            ]
        },
        {
            "cell_type": "code",
            "execution_count": 6,
            "metadata": {},
            "outputs": [
                {
                    "name": "stderr",
                    "output_type": "stream",
                    "text": [
                        "                                                                                                     \r"
                    ]
                },
                {
                    "data": {
                        "text/html": [
                            "<video src=\"media/jupyter/BoundaryConstraintScene@2023-03-17@16-29-40.mp4\" controls autoplay loop style=\"max-width: 60%;\"  >\n",
                            "      Your browser does not support the <code>video</code> element.\n",
                            "    </video>"
                        ],
                        "text/plain": [
                            "<IPython.core.display.Video object>"
                        ]
                    },
                    "metadata": {},
                    "output_type": "display_data"
                }
            ],
            "source": [
                "%%manim -v CRITICAL --format mp4 --disable_caching -q$quality -o boundary_constraints BoundaryConstraintScene\n",
                "import operator\n",
                "\n",
                "class BoundaryConstraintScene(mn.Scene):\n",
                "    def setup(self):\n",
                "        generator = factory.make_generator(1.75, 0.75)\n",
                "        self._left: plate.PlateCircle = generator(vector.point_2d(-6, -2))\n",
                "        self._right: plate.PlateCircle = generator(vector.point_2d(6, -2))\n",
                "        self.add(self._left, self._right)\n",
                "\n",
                "        self._tangent_points: Tuple[vector.Point2d, vector.Point2d] = plate.plate_circle_tangent_points(self._left, self._right)\n",
                "\n",
                "        left_start_point = self._tangent_points[0] + vector.point_2d(1.75, 0.75)\n",
                "        right_start_point = self._tangent_points[1] + vector.point_2d(-2, 0.5)\n",
                "        self._line: sketch.SketchLine = sketch.SketchLine(left_start_point, right_start_point, color=boundary_color)\n",
                "\n",
                "        title.reset()\n",
                "    \n",
                "    def get_vars(self, line_end: sketch.LineEnd, *keys: str):\n",
                "        return [self._get_var(line_end, key) for key in keys]\n",
                "\n",
                "    def _get_var(self, line_end: sketch.LineEnd, key: str):\n",
                "        if (key == \"tangent_point\"):\n",
                "            return self._tangent_points[line_end]\n",
                "\n",
                "        attributes = {\n",
                "            \"circle\" : (\"_left\", \"_right\"),\n",
                "            \"tip\" : (\"_line.start\", \"_line.end\"),\n",
                "            \"point\" : (\"_line.start_point\", \"_line.end_point\"),\n",
                "        }\n",
                "        result = operator.attrgetter(attributes[key][line_end])(self)\n",
                "        return result() if key == \"point\" else result\n",
                "\n",
                "    def construct(self):\n",
                "        self.play(title.next(\"Create line\"))\n",
                "        self.play(self._line.draw())\n",
                "\n",
                "        self.play(title.next(\"Add coincident constraints\"))\n",
                "        self.do_coincident_move(sketch.LineEnd.START)\n",
                "        self.do_coincident_move(sketch.LineEnd.END)\n",
                "\n",
                "        self.play(title.next(\"Add tangent constraints\"))\n",
                "        self.do_tangent_move(sketch.LineEnd.START)\n",
                "        self.do_tangent_move(sketch.LineEnd.END)\n",
                "\n",
                "        self.wait(style.END_DELAY)\n",
                "    \n",
                "    def do_coincident_move(self, line_end: sketch.LineEnd) -> None:\n",
                "        self._do_flash(line_end)\n",
                "        new_point = self._coincident_point(line_end)\n",
                "        self.play(mn.Transform(self._line, self._line.copy().set_position(new_point, line_end)))\n",
                "\n",
                "    def _coincident_point(self, line_end: sketch.LineEnd) -> vector.Point2d:\n",
                "        circle, point = self.get_vars(line_end, \"circle\", \"point\")\n",
                "        return circle.center() + vector.normalize(point - circle.center()) * circle.outer_radius()\n",
                "    \n",
                "    def do_tangent_move(self, line_end: sketch.LineEnd) -> None:\n",
                "        self._do_flash(line_end)\n",
                "        circle, tangent_point = self.get_vars(line_end, \"circle\", \"tangent_point\")\n",
                "        angle = self._tangent_angle(line_end)\n",
                "        self.play(mn.Transform(self._line, self._line.copy().set_position(tangent_point, line_end),\n",
                "            path_arc=angle, part_arg_centers=[circle.center()]))\n",
                "\n",
                "    def _tangent_angle(self, line_end: sketch.LineEnd) -> float:\n",
                "        point, tangent_point, circle = self.get_vars(line_end, \"point\", \"tangent_point\", \"circle\")\n",
                "        return (1 if line_end == sketch.LineEnd.START else -1) * mn.angle_between_vectors(point - circle.center(), tangent_point - circle.center())\n",
                "    \n",
                "    def _do_flash(self, line_end: sketch.LineEnd) -> None:\n",
                "        circle, tip = self.get_vars(line_end, \"circle\", \"tip\")\n",
                "        self.play(mn.Flash(tip, run_time=0.75))\n",
                "        self.play(mn.Flash(circle, flash_radius=circle.outer_radius(), num_lines=40, run_time=0.75))"
            ]
        }
    ],
    "metadata": {
        "kernelspec": {
            "display_name": "Python 3",
            "language": "python",
            "name": "python3"
        },
        "language_info": {
            "codemirror_mode": {
                "name": "ipython",
                "version": 3
            },
            "file_extension": ".py",
            "mimetype": "text/x-python",
            "name": "python",
            "nbconvert_exporter": "python",
            "pygments_lexer": "ipython3",
            "version": "3.11.2"
        },
        "orig_nbformat": 4,
        "vscode": {
            "interpreter": {
                "hash": "e7370f93d1d0cde622a1f8e1c04877d8463912d04d973331ad4851f04de6915a"
            }
        }
    },
    "nbformat": 4,
    "nbformat_minor": 2
}
