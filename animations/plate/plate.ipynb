{
 "cells": [
  {
   "cell_type": "code",
   "execution_count": 1,
   "metadata": {},
   "outputs": [
    {
     "data": {
      "text/html": [
       "<pre style=\"white-space:pre;overflow-x:auto;line-height:normal;font-family:Menlo,'DejaVu Sans Mono',consolas,'Courier New',monospace\">Manim Community <span style=\"color: #008000; text-decoration-color: #008000\">v0.17.2</span>\n",
       "\n",
       "</pre>\n"
      ],
      "text/plain": [
       "Manim Community \u001b[32mv0.\u001b[0m\u001b[32m17.2\u001b[0m\n",
       "\n"
      ]
     },
     "metadata": {},
     "output_type": "display_data"
    },
    {
     "ename": "AttributeError",
     "evalue": "module 'enum' has no attribute 'StrEnum'",
     "output_type": "error",
     "traceback": [
      "\u001b[0;31m---------------------------------------------------------------------------\u001b[0m",
      "\u001b[0;31mAttributeError\u001b[0m                            Traceback (most recent call last)",
      "Cell \u001b[0;32mIn[1], line 5\u001b[0m\n\u001b[1;32m      2\u001b[0m \u001b[39mimport\u001b[39;00m \u001b[39mrc_lib\u001b[39;00m\n\u001b[1;32m      4\u001b[0m \u001b[39mfrom\u001b[39;00m \u001b[39mrc_lib\u001b[39;00m \u001b[39mimport\u001b[39;00m types \u001b[39mas\u001b[39;00m T\n\u001b[0;32m----> 5\u001b[0m \u001b[39mfrom\u001b[39;00m \u001b[39mrc_lib\u001b[39;00m \u001b[39mimport\u001b[39;00m style\n\u001b[1;32m      6\u001b[0m \u001b[39mfrom\u001b[39;00m \u001b[39mrc_lib\u001b[39;00m\u001b[39m.\u001b[39;00m\u001b[39mmath_utils\u001b[39;00m \u001b[39mimport\u001b[39;00m geometry\n\u001b[1;32m      7\u001b[0m \u001b[39mfrom\u001b[39;00m \u001b[39mrc_lib\u001b[39;00m\u001b[39m.\u001b[39;00m\u001b[39mdesign_utils\u001b[39;00m \u001b[39mimport\u001b[39;00m plate\n",
      "File \u001b[0;32m/workspaces/robot-concepts/rc_lib/style.py:12\u001b[0m\n\u001b[1;32m      5\u001b[0m __all__ \u001b[39m=\u001b[39m [\u001b[39m\"\u001b[39m\u001b[39mColor\u001b[39m\u001b[39m\"\u001b[39m, \u001b[39m\"\u001b[39m\u001b[39mFontSize\u001b[39m\u001b[39m\"\u001b[39m, \u001b[39m\"\u001b[39m\u001b[39mTime\u001b[39m\u001b[39m\"\u001b[39m, \u001b[39m\"\u001b[39m\u001b[39mcenter_and_scale\u001b[39m\u001b[39m\"\u001b[39m]\n\u001b[1;32m      7\u001b[0m \u001b[39m# Colors\u001b[39;00m\n\u001b[1;32m      8\u001b[0m \u001b[39m# C_HIGHLIGHT = TEAL_C\u001b[39;00m\n\u001b[1;32m      9\u001b[0m \u001b[39m# C_EMPHASIS = ORANGE\u001b[39;00m\n\u001b[0;32m---> 12\u001b[0m \u001b[39mclass\u001b[39;00m \u001b[39mColor\u001b[39;00m(enum\u001b[39m.\u001b[39;49mStrEnum):\n\u001b[1;32m     13\u001b[0m     RED \u001b[39m=\u001b[39m Colors\u001b[39m.\u001b[39mred_c\u001b[39m.\u001b[39mvalue\n\u001b[1;32m     14\u001b[0m     GREEN \u001b[39m=\u001b[39m Colors\u001b[39m.\u001b[39mgreen_d\u001b[39m.\u001b[39mvalue\n",
      "\u001b[0;31mAttributeError\u001b[0m: module 'enum' has no attribute 'StrEnum'"
     ]
    }
   ],
   "source": [
    "from manim import *\n",
    "import rc_lib\n",
    "\n",
    "from rc_lib import types as T\n",
    "from rc_lib import style\n",
    "from rc_lib.math_utils import geometry\n",
    "from rc_lib.design_utils import plate\n",
    "from rc_lib.view_utils import title_sequence\n",
    "\n",
    "quality = \"ql\""
   ]
  },
  {
   "attachments": {},
   "cell_type": "markdown",
   "metadata": {},
   "source": [
    "The reccomended way to create plates is by first drawing your holes and other relevant geometry, marking out the outer boundary using a second set of circles, and then connecting the boundary with tangent lines."
   ]
  },
  {
   "cell_type": "code",
   "execution_count": null,
   "metadata": {},
   "outputs": [],
   "source": [
    "class IntakePlateScene(Scene):\n",
    "    def construct(self):\n",
    "        small_base = plate.PlateCircle.make(0.15, 0.2)\n",
    "        medium_base = plate.PlateCircle.make(0.4, 0.2)\n",
    "\n",
    "        front_hole = geometry.point_2d(-4, -3)\n",
    "        middle_hole = geometry.point_2d(-1.5, 0.25)\n",
    "        back_hole = geometry.point_2d(2.5, 1.5)\n",
    "\n",
    "        back_offset = geometry.point_2d(0.8, 0.75)\n",
    "\n",
    "        points = [\n",
    "            medium_base.copy(front_hole),\n",
    "            medium_base.copy(middle_hole),\n",
    "            medium_base.copy(back_hole),\n",
    "            small_base.copy(back_hole + back_offset),\n",
    "            small_base.copy(back_hole + geometry.point_2d(1, -0.2)),\n",
    "            small_base.copy((middle_hole + back_hole) / 2),\n",
    "            small_base.copy((front_hole + middle_hole) / 2),\n",
    "        ]\n",
    "\n",
    "        boundary_order = [1, 3, 4, 0]\n",
    "        plate_group = plate.PlateGroup(points, boundary_order)\n",
    "        title = title_sequence.TitleSequence(\n",
    "            [\"Draw plate holes\", \"Add larger circles\", \"Connect boundary\"])\n",
    "\n",
    "        self.play(title.next(), run_time=style.Time.FAST)\n",
    "        self.play(plate_group.draw_inner_circles())\n",
    "        self.wait(style.Time.STANDARD)\n",
    "\n",
    "        self.play(title.next(), run_time=style.Time.FAST)\n",
    "        self.play(plate_group.draw_outer_circles())\n",
    "        self.wait(style.Time.STANDARD)\n",
    "\n",
    "        self.play(title.next(), run_time=style.Time.FAST)\n",
    "        self.play(plate_group.draw_boundary(), run_time=style.Time.SLOW)\n",
    "        self.wait(style.Time.END)"
   ]
  },
  {
   "attachments": {},
   "cell_type": "markdown",
   "metadata": {},
   "source": [
    "In the event a hole is too close to the edge of a plate, you may need to redraw the boundary."
   ]
  },
  {
   "cell_type": "code",
   "execution_count": null,
   "metadata": {},
   "outputs": [
    {
     "name": "stderr",
     "output_type": "stream",
     "text": [
      "                                                                                                    \r"
     ]
    },
    {
     "data": {
      "text/html": [
       "<video src=\"media/jupyter/BoundaryRedrawScene@2023-03-04@00-28-20.mp4\" controls autoplay loop style=\"max-width: 60%;\"  >\n",
       "      Your browser does not support the <code>video</code> element.\n",
       "    </video>"
      ],
      "text/plain": [
       "<IPython.core.display.Video object>"
      ]
     },
     "metadata": {},
     "output_type": "display_data"
    }
   ],
   "source": [
    "%%manim -v WARNING $quality BoundaryRedrawScene\n",
    "\n",
    "class BoundaryRedrawScene(Scene):\n",
    "    def construct(self):\n",
    "        left = PlateCircle(1.75, 0.75)\n",
    "        right = PlateCircle(1.75, 0.75)\n",
    "        left.move_to([-6, -2, 0])\n",
    "        right.move_to([6, -2, 0])\n",
    "        self.add(left)\n",
    "        self.add(right)\n",
    "\n",
    "        line = PlateCircle.tangent_line(right, left)\n",
    "        self.add(line)\n",
    "\n",
    "        middle = PlateCircle(1, 0.75)\n",
    "        middle.move_to([0, -.75, 0])\n",
    "        self.add(middle.inner_circle())\n",
    "\n",
    "        title = Text(\"1. Add outer circle\", font_size=MED_FONT)\n",
    "        title.to_corner(LEFT + UP)\n",
    "        self.play(Write(title))\n",
    "        self.play(middle.draw_outer_circle())\n",
    "\n",
    "        title_2 = Text(\"2. Redraw boundary\", font_size=MED_FONT)\n",
    "        title_2.to_corner(LEFT + UP)\n",
    "        self.play(Transform(title, title_2))\n",
    "\n",
    "        self.play(Uncreate(line))\n",
    "        self.play(Create(PlateCircle.tangent_line(right, middle)))\n",
    "        self.play(Create(PlateCircle.tangent_line(middle, left)))\n",
    "        self.wait(3)"
   ]
  },
  {
   "cell_type": "code",
   "execution_count": null,
   "metadata": {},
   "outputs": [
    {
     "name": "stderr",
     "output_type": "stream",
     "text": [
      "                                                                                                     \r"
     ]
    },
    {
     "data": {
      "text/html": [
       "<video src=\"media/jupyter/LineConstraintScene@2023-03-04@02-37-20.mp4\" controls autoplay loop style=\"max-width: 60%;\"  >\n",
       "      Your browser does not support the <code>video</code> element.\n",
       "    </video>"
      ],
      "text/plain": [
       "<IPython.core.display.Video object>"
      ]
     },
     "metadata": {},
     "output_type": "display_data"
    }
   ],
   "source": [
    "%%manim -v WARNING -$quality LineConstraintScene\n",
    "\n",
    "class LineConstraintScene(Scene):\n",
    "    def construct(self):\n",
    "        left = PlateCircle(1.75, 0.75)\n",
    "        right = PlateCircle(1.75, 0.75)\n",
    "        left.move_to([-6, -2, 0])\n",
    "        right.move_to([6, -2, 0])\n",
    "        self.add(left)\n",
    "        self.add(right)\n",
    "\n",
    "        tangent_points = PlateCircle.tangent_points(right, left)\n",
    "\n",
    "        title = Text(\"1. Create line\", font_size=MED_FONT)\n",
    "        title.to_corner(LEFT + UP)\n",
    "        self.play(Write(title))\n",
    "\n",
    "        left_start_point = tangent_points[1] + [1.75, 0.75, 0]\n",
    "        right_start_point = tangent_points[0] + [-2, 0.5, 0]\n",
    "        line = LineSegment(left_start_point, right_start_point)\n",
    "\n",
    "        self.play(line.create())\n",
    "\n",
    "        title_2 = Text(\"2. Add coincident constraints\", font_size=MED_FONT)\n",
    "        title_2.to_corner(LEFT + UP)\n",
    "        self.play(Transform(title, title_2))\n",
    "\n",
    "        left_coincident_point = left.center() + normalize(left_start_point - left.center()) * left.outer_radius()\n",
    "        self.flash(line.start_point(), left)\n",
    "        self.play(line.move_start(left_coincident_point))\n",
    "\n",
    "        right_coincident_point = right.center() + normalize(right_start_point - right.center()) * right.outer_radius()\n",
    "        self.flash(line.end_point(), right)\n",
    "        self.play(line.move_end(right_coincident_point))\n",
    "\n",
    "\n",
    "        title_3 = Text(\"3. Add tangent constraints\", font_size=MED_FONT)\n",
    "        title_3.to_corner(LEFT + UP)\n",
    "        self.play(Transform(title, title_3))\n",
    "\n",
    "        self.flash(line.start_point(), left)\n",
    "        angle = angle_between_vectors(left_coincident_point - left.center(), tangent_points[1] - left.center())\n",
    "        self.play(line.move_start(tangent_points[1]), path_arc=angle, path_arg_centers=[left.center()])\n",
    "\n",
    "        self.flash(line.end_point(), right)\n",
    "        angle = -angle_between_vectors(right_coincident_point - right.center(), tangent_points[0] - right.center())\n",
    "        self.play(line.move_end(tangent_points[0]), path_arc=angle, path_arg_centers=[right.center()])\n",
    "\n",
    "        self.wait(3)\n",
    "    \n",
    "    def flash(self, point, circle):\n",
    "        self.play(Flash(point), run_time=0.75)\n",
    "        self.play(Flash(circle, flash_radius=circle.outer_radius(), num_lines=40), run_time=0.75)\n"
   ]
  }
 ],
 "metadata": {
  "kernelspec": {
   "display_name": "Python 3",
   "language": "python",
   "name": "python3"
  },
  "language_info": {
   "codemirror_mode": {
    "name": "ipython",
    "version": 3
   },
   "file_extension": ".py",
   "mimetype": "text/x-python",
   "name": "python",
   "nbconvert_exporter": "python",
   "pygments_lexer": "ipython3",
   "version": "3.9.2"
  },
  "orig_nbformat": 4,
  "vscode": {
   "interpreter": {
    "hash": "e7370f93d1d0cde622a1f8e1c04877d8463912d04d973331ad4851f04de6915a"
   }
  }
 },
 "nbformat": 4,
 "nbformat_minor": 2
}
