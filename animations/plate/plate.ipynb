{
 "cells": [
  {
   "cell_type": "code",
   "execution_count": 1,
   "metadata": {},
   "outputs": [
    {
     "data": {
      "text/html": [
       "<pre style=\"white-space:pre;overflow-x:auto;line-height:normal;font-family:Menlo,'DejaVu Sans Mono',consolas,'Courier New',monospace\">Manim Community <span style=\"color: #008000; text-decoration-color: #008000\">v0.17.2</span>\n",
       "\n",
       "</pre>\n"
      ],
      "text/plain": [
       "Manim Community \u001b[32mv0.\u001b[0m\u001b[32m17.2\u001b[0m\n",
       "\n"
      ]
     },
     "metadata": {},
     "output_type": "display_data"
    }
   ],
   "source": [
    "from manim import *\n",
    "\n",
    "from rc_lib import math_types as T\n",
    "from rc_lib import style\n",
    "from rc_lib.math_utils import geometry\n",
    "from rc_lib.design_utils import plate, sketch\n",
    "from rc_lib.view_utils import title_sequence\n",
    "\n",
    "quality = \"ql\""
   ]
  },
  {
   "attachments": {},
   "cell_type": "markdown",
   "metadata": {},
   "source": [
    "The reccomended way to create plates is by first drawing your holes and other relevant geometry, marking out the outer boundary using a second set of circles, and then connecting the boundary with tangent lines."
   ]
  },
  {
   "cell_type": "code",
   "execution_count": 2,
   "metadata": {},
   "outputs": [
    {
     "name": "stderr",
     "output_type": "stream",
     "text": [
      "                                                                                                    \r"
     ]
    },
    {
     "data": {
      "text/html": [
       "<video src=\"media/jupyter/IntakePlateScene@2023-03-10@19-12-42.mp4\" controls autoplay loop style=\"max-width: 60%;\"  >\n",
       "      Your browser does not support the <code>video</code> element.\n",
       "    </video>"
      ],
      "text/plain": [
       "<IPython.core.display.Video object>"
      ]
     },
     "metadata": {},
     "output_type": "display_data"
    }
   ],
   "source": [
    "%%manim -v WARNING --disable_caching -$quality IntakePlateScene\n",
    "\n",
    "class IntakePlateScene(Scene):\n",
    "    def construct(self):\n",
    "        inner_color = style.Color.GREEN\n",
    "        boundary_color = style.Color.BLUE\n",
    "\n",
    "        small_base = plate.PlateCircleFactory(0.15, 0.2)\n",
    "        small_base.set_inner_color(inner_color).set_outer_color(boundary_color)\n",
    "        medium_base = small_base.copy(0.4)\n",
    "\n",
    "        front_hole = geometry.point_2d(-4, -3)\n",
    "        middle_hole = geometry.point_2d(-1.5, 0.25)\n",
    "        back_hole = geometry.point_2d(2.5, 1.5)\n",
    "        back_offset = geometry.point_2d(0.8, 0.75)\n",
    "\n",
    "        points = [\n",
    "            medium_base.make(front_hole),\n",
    "            medium_base.make(middle_hole),\n",
    "            medium_base.make(back_hole),\n",
    "            small_base.make(back_hole + back_offset),\n",
    "            small_base.make(back_hole + geometry.point_2d(1, -0.2)),\n",
    "            small_base.make((middle_hole + back_hole) / 2),\n",
    "            small_base.make((front_hole + middle_hole) / 2),\n",
    "        ]\n",
    "\n",
    "        boundary_order = [1, 3, 4, 0]\n",
    "        plate_group = plate.PlateGroup(points, boundary_order, boundary_color=boundary_color)\n",
    "        title = title_sequence.TitleSequence(add_numbers=True)\n",
    "\n",
    "        self.play(title.next(\"Draw plate holes\", color=inner_color))\n",
    "        self.play(plate_group.draw_inner_circles(lag_ratio=0.75))\n",
    "        self.wait(style.Time.STANDARD)\n",
    "\n",
    "        self.play(title.next(\"Add larger circles\", color=boundary_color))\n",
    "        self.play(plate_group.draw_outer_circles(lag_ratio=0.75))\n",
    "        self.wait(style.Time.STANDARD)\n",
    "\n",
    "        self.play(title.next(\"Connect boundary\", color=boundary_color))\n",
    "        self.play(plate_group.draw_boundary(), run_time=style.Time.SLOW * 3)\n",
    "        self.wait(style.Time.STANDARD)\n",
    "\n",
    "        # self.play(title.next(\"Trim\", color=boundary_color))\n",
    "        # self.play(plate_group.trim(), run_time=style.Time.SLOW * 3)\n",
    "\n",
    "        self.wait(style.Time.END)"
   ]
  },
  {
   "attachments": {},
   "cell_type": "markdown",
   "metadata": {},
   "source": [
    "In the event a hole is too close to the edge of a plate, you may need to redraw the boundary."
   ]
  },
  {
   "cell_type": "code",
   "execution_count": null,
   "metadata": {},
   "outputs": [
    {
     "name": "stderr",
     "output_type": "stream",
     "text": [
      "                                                                                                    \r"
     ]
    },
    {
     "data": {
      "text/html": [
       "<video src=\"media/jupyter/BoundaryRedrawScene@2023-03-10@07-24-41.mp4\" controls autoplay loop style=\"max-width: 60%;\"  >\n",
       "      Your browser does not support the <code>video</code> element.\n",
       "    </video>"
      ],
      "text/plain": [
       "<IPython.core.display.Video object>"
      ]
     },
     "metadata": {},
     "output_type": "display_data"
    }
   ],
   "source": [
    "%%manim -v WARNING --disable_caching -$quality BoundaryRedrawScene\n",
    "\n",
    "class BoundaryRedrawScene(Scene):\n",
    "    def construct(self):\n",
    "        left = plate.PlateCircle.make(1.75, 0.75).move_to(geometry.point_2d(-6, -2))\n",
    "        right = plate.PlateCircle.make(1.75, 0.75).move_to(geometry.point_2d(6, -2))\n",
    "        self.add(left)\n",
    "        self.add(right)\n",
    "\n",
    "        line = plate.PlateCircle.tangent_line(left, right)\n",
    "        self.add(line)\n",
    "\n",
    "        middle = plate.PlateCircle.make(1, 0.75).move_to(geometry.point_2d(0, -0.75))\n",
    "        self.add(middle.inner_circle())\n",
    "\n",
    "        title = title_sequence.TitleSequence(\n",
    "            [\"Add outer circle\", \"Redraw boundary\"])\n",
    "\n",
    "        self.play(title.next())\n",
    "        self.play(middle.draw_outer_circle())\n",
    "\n",
    "        self.play(title.next())\n",
    "        self.play(Uncreate(line))\n",
    "        self.wait(style.Time.FAST)\n",
    "        self.play(Create(plate.PlateCircle.tangent_line(left, middle)))\n",
    "        self.play(Create(plate.PlateCircle.tangent_line(middle, right)))\n",
    "\n",
    "        self.wait(style.Time.END)"
   ]
  },
  {
   "cell_type": "code",
   "execution_count": null,
   "metadata": {},
   "outputs": [
    {
     "name": "stderr",
     "output_type": "stream",
     "text": [
      "                                                                                                     \r"
     ]
    },
    {
     "data": {
      "text/html": [
       "<video src=\"media/jupyter/LineConstraintScene@2023-03-10@07-32-34.mp4\" controls autoplay loop style=\"max-width: 60%;\"  >\n",
       "      Your browser does not support the <code>video</code> element.\n",
       "    </video>"
      ],
      "text/plain": [
       "<IPython.core.display.Video object>"
      ]
     },
     "metadata": {},
     "output_type": "display_data"
    }
   ],
   "source": [
    "%%manim -v WARNING -$quality LineConstraintScene\n",
    "\n",
    "class LineConstraintScene(Scene):\n",
    "    def construct(self):\n",
    "        left = plate.PlateCircle.make(1.75, 0.75).move_to(geometry.point_2d(-6, -2))\n",
    "        right = plate.PlateCircle.make(1.75, 0.75).move_to(geometry.point_2d(6, -2))\n",
    "        self.add(left)\n",
    "        self.add(right)\n",
    "        tangent_points = plate.PlateCircle.tangent_points(left, right)\n",
    "\n",
    "        title = title_sequence.TitleSequence([\"Create line\", \"Add coincident constraints\", \"Add tangent constraints\"])\n",
    "\n",
    "        self.play(title.next())\n",
    "        left_start_point = tangent_points[0] + geometry.point_2d(1.75, 0.75)\n",
    "        right_start_point = tangent_points[1] + geometry.point_2d(-2, 0.5)\n",
    "\n",
    "        line = sketch.SketchLine(left_start_point, right_start_point)\n",
    "        self.play(line.create())\n",
    "\n",
    "        self.play(title.next())\n",
    "        left_coincident_point = left.center() + normalize(left_start_point - left.center()) * left.outer_radius()\n",
    "        self.flash(line.start_point(), left)\n",
    "        self.play(line.move_start(left_coincident_point))\n",
    "\n",
    "        right_coincident_point = right.center() + normalize(right_start_point - right.center()) * right.outer_radius()\n",
    "        self.flash(line.end_point(), right)\n",
    "        self.play(line.move_end(right_coincident_point))\n",
    "\n",
    "        self.play(title.next())\n",
    "        self.flash(line.start_point(), left)\n",
    "        angle = angle_between_vectors(left_coincident_point - left.center(), tangent_points[0] - left.center())\n",
    "        self.play(line.move_start(tangent_points[0]), path_arc=angle, path_arg_centers=[left.center()])\n",
    "\n",
    "        self.flash(line.end_point(), right)\n",
    "        angle = -angle_between_vectors(right_coincident_point - right.center(), tangent_points[1] - right.center())\n",
    "        self.play(line.move_end(tangent_points[1]), path_arc=angle, path_arg_centers=[right.center()])\n",
    "\n",
    "        self.wait(style.Time.END)\n",
    "    \n",
    "    def flash(self, point, circle):\n",
    "        self.play(Flash(point), run_time=style.Time.MEDIUM)\n",
    "        self.play(Flash(circle, flash_radius=circle.outer_radius(), num_lines=40), run_time=style.Time.MEDIUM)\n"
   ]
  }
 ],
 "metadata": {
  "kernelspec": {
   "display_name": "Python 3",
   "language": "python",
   "name": "python3"
  },
  "language_info": {
   "codemirror_mode": {
    "name": "ipython",
    "version": 3
   },
   "file_extension": ".py",
   "mimetype": "text/x-python",
   "name": "python",
   "nbconvert_exporter": "python",
   "pygments_lexer": "ipython3",
   "version": "3.11.2"
  },
  "orig_nbformat": 4,
  "vscode": {
   "interpreter": {
    "hash": "e7370f93d1d0cde622a1f8e1c04877d8463912d04d973331ad4851f04de6915a"
   }
  }
 },
 "nbformat": 4,
 "nbformat_minor": 2
}
