{
 "cells": [
  {
   "cell_type": "code",
   "execution_count": 1,
   "metadata": {},
   "outputs": [
    {
     "data": {
      "text/html": [
       "<pre style=\"white-space:pre;overflow-x:auto;line-height:normal;font-family:Menlo,'DejaVu Sans Mono',consolas,'Courier New',monospace\">Manim Community <span style=\"color: #008000; text-decoration-color: #008000\">v0.17.2</span>\n",
       "\n",
       "</pre>\n"
      ],
      "text/plain": [
       "Manim Community \u001b[32mv0.\u001b[0m\u001b[32m17.2\u001b[0m\n",
       "\n"
      ]
     },
     "metadata": {},
     "output_type": "display_data"
    }
   ],
   "source": [
    "from manim import *\n",
    "\n",
    "from rc_lib import math_types as T\n",
    "from rc_lib import style\n",
    "from rc_lib.math_utils import geometry\n",
    "from rc_lib.design_utils import plate, sketch\n",
    "from rc_lib.view_utils import title_sequence\n",
    "\n",
    "quality = \"ql\""
   ]
  },
  {
   "cell_type": "code",
   "execution_count": 2,
   "metadata": {},
   "outputs": [],
   "source": [
    "inner_color = style.Pallette.GREEN\n",
    "boundary_color = style.Pallette.BLUE\n",
    "factory = plate.PlateCircleFactory()\n",
    "factory.set_inner_color(inner_color).set_outer_color(boundary_color)\n",
    "\n",
    "title = title_sequence.TitleSequence(default_color=boundary_color)\n",
    "\n",
    "# TODO:\n",
    "# add underscores\n",
    "# plategroup factory\n",
    "# basic website\n",
    "# extract animations (seperation of concerns pls, make generic where it makes sense)\n",
    "# parameterize access (key dict?)\n",
    "# trim\n",
    "# delete time enum, add to style guide\n",
    "# update style guide\n",
    "# sketch line copy"
   ]
  },
  {
   "attachments": {},
   "cell_type": "markdown",
   "metadata": {},
   "source": [
    "The reccomended way to create plates is by first drawing your holes and other relevant geometry, marking out the outer boundary using a second set of circles, and then connecting the boundary with tangent lines."
   ]
  },
  {
   "cell_type": "code",
   "execution_count": 3,
   "metadata": {},
   "outputs": [
    {
     "name": "stderr",
     "output_type": "stream",
     "text": [
      "                                                                                                    \r"
     ]
    },
    {
     "data": {
      "text/html": [
       "<video src=\"media/jupyter/IntakePlateScene@2023-03-11@15-42-07.mp4\" controls autoplay loop style=\"max-width: 60%;\"  >\n",
       "      Your browser does not support the <code>video</code> element.\n",
       "    </video>"
      ],
      "text/plain": [
       "<IPython.core.display.Video object>"
      ]
     },
     "metadata": {},
     "output_type": "display_data"
    }
   ],
   "source": [
    "%%manim -v WARNING --disable_caching -$quality IntakePlateScene\n",
    "\n",
    "class IntakePlateScene(Scene):\n",
    "    def setup(self):\n",
    "        small_base = factory.make_generator(0.15, 0.2)\n",
    "        medium_base = factory.make_generator(0.4, 0.2)\n",
    "\n",
    "        front_hole = geometry.point_2d(-4, -3)\n",
    "        middle_hole = geometry.point_2d(-1.5, 0.25)\n",
    "        back_hole = geometry.point_2d(2.5, 1.5)\n",
    "        back_offset = geometry.point_2d(0.8, 0.75)\n",
    "\n",
    "        points = [\n",
    "            medium_base(front_hole),\n",
    "            medium_base(middle_hole),\n",
    "            medium_base(back_hole),\n",
    "            small_base(back_hole + back_offset),\n",
    "            small_base(back_hole + geometry.point_2d(1, -0.2)),\n",
    "            small_base((middle_hole + back_hole) / 2),\n",
    "            small_base((front_hole + middle_hole) / 2)\n",
    "        ]\n",
    "        boundary_order = [1, 3, 4, 0]\n",
    "        self.plate_group = plate.PlateGroup(points, boundary_order, boundary_color=boundary_color)\n",
    "        title.reset()\n",
    "\n",
    "    def construct(self):\n",
    "        self.play(title.next(\"Draw plate holes\", color=inner_color))\n",
    "        self.play(self.plate_group.draw_inner_circles(lag_ratio=0.5))\n",
    "        self.wait()\n",
    "\n",
    "        self.play(title.next(\"Add larger circles\"))\n",
    "        self.play(self.plate_group.draw_outer_circles(lag_ratio=0.5))\n",
    "        self.wait()\n",
    "\n",
    "        self.play(title.next(\"Connect boundary\"))\n",
    "        self.play(self.plate_group.draw_boundary(lag_ratio=0.75, run_time=5))\n",
    "        # self.wait()\n",
    "\n",
    "        # self.play(title.next(\"Trim\", color=boundary_color))\n",
    "        # self.play(plate_group.trim(), run_time=style.Time.SLOW * 3)\n",
    "\n",
    "        self.wait(style.END_DELAY)"
   ]
  },
  {
   "attachments": {},
   "cell_type": "markdown",
   "metadata": {},
   "source": [
    "In the event a hole is too close to the edge of a plate, you may need to redraw the boundary."
   ]
  },
  {
   "cell_type": "code",
   "execution_count": 4,
   "metadata": {},
   "outputs": [
    {
     "ename": "AttributeError",
     "evalue": "'PlateCircleFactory' object has no attribute 'get_generator'",
     "output_type": "error",
     "traceback": [
      "\u001b[0;31m---------------------------------------------------------------------------\u001b[0m",
      "\u001b[0;31mAttributeError\u001b[0m                            Traceback (most recent call last)",
      "Cell \u001b[0;32mIn[4], line 1\u001b[0m\n\u001b[0;32m----> 1\u001b[0m get_ipython()\u001b[39m.\u001b[39;49mrun_cell_magic(\u001b[39m'\u001b[39;49m\u001b[39mmanim\u001b[39;49m\u001b[39m'\u001b[39;49m, \u001b[39m'\u001b[39;49m\u001b[39m-v WARNING --disable_caching -$quality BoundaryRedrawScene\u001b[39;49m\u001b[39m'\u001b[39;49m, \u001b[39m'\u001b[39;49m\u001b[39m\\n\u001b[39;49;00m\u001b[39mclass BoundaryRedrawScene(Scene):\u001b[39;49m\u001b[39m\\n\u001b[39;49;00m\u001b[39m    def setup(self):\u001b[39;49m\u001b[39m\\n\u001b[39;49;00m\u001b[39m        generator = factory.make_generator(1.75, 0.75)\u001b[39;49m\u001b[39m\\n\u001b[39;49;00m\u001b[39m        self.left = generator(geometry.point_2d(-6, -2))\u001b[39;49m\u001b[39m\\n\u001b[39;49;00m\u001b[39m        self.right = generator(geometry.point_2d(6, -2))\u001b[39;49m\u001b[39m\\n\u001b[39;49;00m\u001b[39m        self.middle = factory.make(1, 0.75, geometry.point_2d(0, -0.75))\u001b[39;49m\u001b[39m\\n\u001b[39;49;00m\u001b[39m\\n\u001b[39;49;00m\u001b[39m        self.line = plate.PlateCircle.tangent_line(self.left, self.right, style.Palette.Color)\u001b[39;49m\u001b[39m\\n\u001b[39;49;00m\u001b[39m        self.add(self.left, self.right, self.line, self.middle.inner_circle())\u001b[39;49m\u001b[39m\\n\u001b[39;49;00m\u001b[39m\\n\u001b[39;49;00m\u001b[39m        title.reset()\u001b[39;49m\u001b[39m\\n\u001b[39;49;00m\u001b[39m\\n\u001b[39;49;00m\u001b[39m    def construct(self):\u001b[39;49m\u001b[39m\\n\u001b[39;49;00m\u001b[39m        self.play(title.next(\u001b[39;49m\u001b[39m\"\u001b[39;49m\u001b[39mAdd outer circle\u001b[39;49m\u001b[39m\"\u001b[39;49m\u001b[39m))\u001b[39;49m\u001b[39m\\n\u001b[39;49;00m\u001b[39m        self.play(self.middle.draw_outer_circle())\u001b[39;49m\u001b[39m\\n\u001b[39;49;00m\u001b[39m\\n\u001b[39;49;00m\u001b[39m        self.play(title.next(\u001b[39;49m\u001b[39m\"\u001b[39;49m\u001b[39mRedraw boundary\u001b[39;49m\u001b[39m\"\u001b[39;49m\u001b[39m))\u001b[39;49m\u001b[39m\\n\u001b[39;49;00m\u001b[39m        self.play(Uncreate(self.line))\u001b[39;49m\u001b[39m\\n\u001b[39;49;00m\u001b[39m        self.wait(0.25)\u001b[39;49m\u001b[39m\\n\u001b[39;49;00m\u001b[39m        self.play(Create(plate.PlateCircle.tangent_line(self.left, self.middle, boundary_color)))\u001b[39;49m\u001b[39m\\n\u001b[39;49;00m\u001b[39m        self.play(Create(plate.PlateCircle.tangent_line(self.middle, self.right, boundary_color)))\u001b[39;49m\u001b[39m\\n\u001b[39;49;00m\u001b[39m\\n\u001b[39;49;00m\u001b[39m        self.wait(style.END_DELAY)\u001b[39;49m\u001b[39m\\n\u001b[39;49;00m\u001b[39m'\u001b[39;49m)\n",
      "File \u001b[0;32m/usr/local/lib/python3.11/site-packages/IPython/core/interactiveshell.py:2430\u001b[0m, in \u001b[0;36mInteractiveShell.run_cell_magic\u001b[0;34m(self, magic_name, line, cell)\u001b[0m\n\u001b[1;32m   2428\u001b[0m \u001b[39mwith\u001b[39;00m \u001b[39mself\u001b[39m\u001b[39m.\u001b[39mbuiltin_trap:\n\u001b[1;32m   2429\u001b[0m     args \u001b[39m=\u001b[39m (magic_arg_s, cell)\n\u001b[0;32m-> 2430\u001b[0m     result \u001b[39m=\u001b[39m fn(\u001b[39m*\u001b[39;49margs, \u001b[39m*\u001b[39;49m\u001b[39m*\u001b[39;49mkwargs)\n\u001b[1;32m   2432\u001b[0m \u001b[39m# The code below prevents the output from being displayed\u001b[39;00m\n\u001b[1;32m   2433\u001b[0m \u001b[39m# when using magics with decodator @output_can_be_silenced\u001b[39;00m\n\u001b[1;32m   2434\u001b[0m \u001b[39m# when the last Python token in the expression is a ';'.\u001b[39;00m\n\u001b[1;32m   2435\u001b[0m \u001b[39mif\u001b[39;00m \u001b[39mgetattr\u001b[39m(fn, magic\u001b[39m.\u001b[39mMAGIC_OUTPUT_CAN_BE_SILENCED, \u001b[39mFalse\u001b[39;00m):\n",
      "File \u001b[0;32m/usr/local/lib/python3.11/site-packages/manim/utils/ipython_magic.py:141\u001b[0m, in \u001b[0;36mManimMagic.manim\u001b[0;34m(self, line, cell, local_ns)\u001b[0m\n\u001b[1;32m    139\u001b[0m     SceneClass \u001b[39m=\u001b[39m local_ns[config[\u001b[39m\"\u001b[39m\u001b[39mscene_names\u001b[39m\u001b[39m\"\u001b[39m][\u001b[39m0\u001b[39m]]\n\u001b[1;32m    140\u001b[0m     scene \u001b[39m=\u001b[39m SceneClass(renderer\u001b[39m=\u001b[39mrenderer)\n\u001b[0;32m--> 141\u001b[0m     scene\u001b[39m.\u001b[39;49mrender()\n\u001b[1;32m    142\u001b[0m \u001b[39mfinally\u001b[39;00m:\n\u001b[1;32m    143\u001b[0m     \u001b[39m# Shader cache becomes invalid as the context is destroyed\u001b[39;00m\n\u001b[1;32m    144\u001b[0m     shader_program_cache\u001b[39m.\u001b[39mclear()\n",
      "File \u001b[0;32m/usr/local/lib/python3.11/site-packages/manim/scene/scene.py:221\u001b[0m, in \u001b[0;36mScene.render\u001b[0;34m(self, preview)\u001b[0m\n\u001b[1;32m    212\u001b[0m \u001b[39mdef\u001b[39;00m \u001b[39mrender\u001b[39m(\u001b[39mself\u001b[39m, preview: \u001b[39mbool\u001b[39m \u001b[39m=\u001b[39m \u001b[39mFalse\u001b[39;00m):\n\u001b[1;32m    213\u001b[0m \u001b[39m    \u001b[39m\u001b[39m\"\"\"\u001b[39;00m\n\u001b[1;32m    214\u001b[0m \u001b[39m    Renders this Scene.\u001b[39;00m\n\u001b[1;32m    215\u001b[0m \n\u001b[0;32m   (...)\u001b[0m\n\u001b[1;32m    219\u001b[0m \u001b[39m        If true, opens scene in a file viewer.\u001b[39;00m\n\u001b[1;32m    220\u001b[0m \u001b[39m    \"\"\"\u001b[39;00m\n\u001b[0;32m--> 221\u001b[0m     \u001b[39mself\u001b[39;49m\u001b[39m.\u001b[39;49msetup()\n\u001b[1;32m    222\u001b[0m     \u001b[39mtry\u001b[39;00m:\n\u001b[1;32m    223\u001b[0m         \u001b[39mself\u001b[39m\u001b[39m.\u001b[39mconstruct()\n",
      "File \u001b[0;32m<string>:7\u001b[0m, in \u001b[0;36msetup\u001b[0;34m(self)\u001b[0m\n",
      "File \u001b[0;32m/workspaces/robot-concepts/rc_lib/design_utils/plate.py:78\u001b[0m, in \u001b[0;36mPlateCircleFactory.make\u001b[0;34m(self, radius, offset, location)\u001b[0m\n\u001b[1;32m     76\u001b[0m \u001b[39mdef\u001b[39;00m \u001b[39mmake\u001b[39m(\u001b[39mself\u001b[39m, radius: \u001b[39mfloat\u001b[39m, offset: \u001b[39mfloat\u001b[39m, location: T\u001b[39m.\u001b[39mPoint2d) \u001b[39m-\u001b[39m\u001b[39m>\u001b[39m PlateCircle:\n\u001b[1;32m     77\u001b[0m     \u001b[39m# get a generator and immediately pass it location\u001b[39;00m\n\u001b[0;32m---> 78\u001b[0m     \u001b[39mreturn\u001b[39;00m \u001b[39mself\u001b[39;49m\u001b[39m.\u001b[39;49mget_generator(radius, offset)(location)\n",
      "\u001b[0;31mAttributeError\u001b[0m: 'PlateCircleFactory' object has no attribute 'get_generator'"
     ]
    }
   ],
   "source": [
    "%%manim -v WARNING --disable_caching -$quality BoundaryRedrawScene\n",
    "\n",
    "class BoundaryRedrawScene(Scene):\n",
    "    def setup(self):\n",
    "        generator = factory.make_generator(1.75, 0.75)\n",
    "        self.left = generator(geometry.point_2d(-6, -2))\n",
    "        self.right = generator(geometry.point_2d(6, -2))\n",
    "        self.middle = factory.make(1, 0.75, geometry.point_2d(0, -0.75))\n",
    "\n",
    "        self.line = plate.PlateCircle.tangent_line(self.left, self.right, style.Palette.Color)\n",
    "        self.add(self.left, self.right, self.line, self.middle.inner_circle())\n",
    "\n",
    "        title.reset()\n",
    "\n",
    "    def construct(self):\n",
    "        self.play(title.next(\"Add outer circle\"))\n",
    "        self.play(self.middle.draw_outer_circle())\n",
    "\n",
    "        self.play(title.next(\"Redraw boundary\"))\n",
    "        self.play(Uncreate(self.line))\n",
    "        self.wait(0.25)\n",
    "        self.play(Create(plate.PlateCircle.tangent_line(self.left, self.middle, boundary_color)))\n",
    "        self.play(Create(plate.PlateCircle.tangent_line(self.middle, self.right, boundary_color)))\n",
    "\n",
    "        self.wait(style.END_DELAY)"
   ]
  },
  {
   "cell_type": "code",
   "execution_count": null,
   "metadata": {},
   "outputs": [
    {
     "ename": "AttributeError",
     "evalue": "module 'rc_lib.style' has no attribute 'Time'",
     "output_type": "error",
     "traceback": [
      "\u001b[0;31m---------------------------------------------------------------------------\u001b[0m",
      "\u001b[0;31mAttributeError\u001b[0m                            Traceback (most recent call last)",
      "Cell \u001b[0;32mIn[3], line 1\u001b[0m\n\u001b[0;32m----> 1\u001b[0m get_ipython()\u001b[39m.\u001b[39;49mrun_cell_magic(\u001b[39m'\u001b[39;49m\u001b[39mmanim\u001b[39;49m\u001b[39m'\u001b[39;49m, \u001b[39m'\u001b[39;49m\u001b[39m-v WARNING -$quality LineConstraintScene\u001b[39;49m\u001b[39m'\u001b[39;49m, \u001b[39m'\u001b[39;49m\u001b[39mimport operator\u001b[39;49m\u001b[39m\\n\u001b[39;49;00m\u001b[39mfrom rc_lib.design_utils.sketch import LineEnd\u001b[39;49m\u001b[39m\\n\u001b[39;49;00m\u001b[39m\\n\u001b[39;49;00m\u001b[39mclass LineConstraintScene(Scene):\u001b[39;49m\u001b[39m\\n\u001b[39;49;00m\u001b[39m    def setup(self):\u001b[39;49m\u001b[39m\\n\u001b[39;49;00m\u001b[39m        generator = factory.make_generator(1.75, 0.75)\u001b[39;49m\u001b[39m\\n\u001b[39;49;00m\u001b[39m        self._left = generator(geometry.point_2d(-6, -2))\u001b[39;49m\u001b[39m\\n\u001b[39;49;00m\u001b[39m        self._right = generator(geometry.point_2d(6, -2))\u001b[39;49m\u001b[39m\\n\u001b[39;49;00m\u001b[39m        self.add(self._left, self._right)\u001b[39;49m\u001b[39m\\n\u001b[39;49;00m\u001b[39m\\n\u001b[39;49;00m\u001b[39m        self._tangent_points = plate.PlateCircle.tangent_points(self._left, self._right)\u001b[39;49m\u001b[39m\\n\u001b[39;49;00m\u001b[39m\\n\u001b[39;49;00m\u001b[39m        left_start_point = self._tangent_points[0] + geometry.point_2d(1.75, 0.75)\u001b[39;49m\u001b[39m\\n\u001b[39;49;00m\u001b[39m        right_start_point = self._tangent_points[1] + geometry.point_2d(-2, 0.5)\u001b[39;49m\u001b[39m\\n\u001b[39;49;00m\u001b[39m        self._line = sketch.SketchLine(left_start_point, right_start_point, color=boundary_color)\u001b[39;49m\u001b[39m\\n\u001b[39;49;00m\u001b[39m\\n\u001b[39;49;00m\u001b[39m        title.reset()\u001b[39;49m\u001b[39m\\n\u001b[39;49;00m\u001b[39m    \u001b[39;49m\u001b[39m\\n\u001b[39;49;00m\u001b[39m    def get_vars(self, *keys: str, line_end: LineEnd):\u001b[39;49m\u001b[39m\\n\u001b[39;49;00m\u001b[39m        return [_get_var(key) for key in keys]\u001b[39;49m\u001b[39m\\n\u001b[39;49;00m\u001b[39m\\n\u001b[39;49;00m\u001b[39m    def _get_var(self, key: str, line_end: LineEnd):\u001b[39;49m\u001b[39m\\n\u001b[39;49;00m\u001b[39m        attributes = \u001b[39;49m\u001b[39m{\u001b[39;49m\u001b[39m\\n\u001b[39;49;00m\u001b[39m            \u001b[39;49m\u001b[39m\\'\u001b[39;49;00m\u001b[39mcircle\u001b[39;49m\u001b[39m\\'\u001b[39;49;00m\u001b[39m : (\u001b[39;49m\u001b[39m\\'\u001b[39;49;00m\u001b[39m_left\u001b[39;49m\u001b[39m\\'\u001b[39;49;00m\u001b[39m, \u001b[39;49m\u001b[39m\\'\u001b[39;49;00m\u001b[39m_right\u001b[39;49m\u001b[39m\\'\u001b[39;49;00m\u001b[39m),\u001b[39;49m\u001b[39m\\n\u001b[39;49;00m\u001b[39m            \u001b[39;49m\u001b[39m\\'\u001b[39;49;00m\u001b[39mdot\u001b[39;49m\u001b[39m\\'\u001b[39;49;00m\u001b[39m : (\u001b[39;49m\u001b[39m\\'\u001b[39;49;00m\u001b[39m_line.get_start\u001b[39;49m\u001b[39m\\'\u001b[39;49;00m\u001b[39m, \u001b[39;49m\u001b[39m\\'\u001b[39;49;00m\u001b[39m_line.get_end\u001b[39;49m\u001b[39m\\'\u001b[39;49;00m\u001b[39m),\u001b[39;49m\u001b[39m\\n\u001b[39;49;00m\u001b[39m            \u001b[39;49m\u001b[39m\\'\u001b[39;49;00m\u001b[39mpoint\u001b[39;49m\u001b[39m\\'\u001b[39;49;00m\u001b[39m : (\u001b[39;49m\u001b[39m\\'\u001b[39;49;00m\u001b[39m_line.start_point\u001b[39;49m\u001b[39m\\'\u001b[39;49;00m\u001b[39m, \u001b[39;49m\u001b[39m\\'\u001b[39;49;00m\u001b[39m_line.end_point\u001b[39;49m\u001b[39m\\'\u001b[39;49;00m\u001b[39m),\u001b[39;49m\u001b[39m\\n\u001b[39;49;00m\u001b[39m            \u001b[39;49m\u001b[39m\\'\u001b[39;49;00m\u001b[39mmove_function\u001b[39;49m\u001b[39m\\'\u001b[39;49;00m\u001b[39m : (\u001b[39;49m\u001b[39m\\'\u001b[39;49;00m\u001b[39m_line.move_to_start\u001b[39;49m\u001b[39m\\'\u001b[39;49;00m\u001b[39m, \u001b[39;49m\u001b[39m\\'\u001b[39;49;00m\u001b[39m_line.move_to_end\u001b[39;49m\u001b[39m\\'\u001b[39;49;00m\u001b[39m),\u001b[39;49m\u001b[39m\\n\u001b[39;49;00m\u001b[39m            \u001b[39;49m\u001b[39m\\'\u001b[39;49;00m\u001b[39mtangent_point\u001b[39;49m\u001b[39m\\'\u001b[39;49;00m\u001b[39m : (\u001b[39;49m\u001b[39m\\'\u001b[39;49;00m\u001b[39m_tangent_points\u001b[39;49m\u001b[39m\\'\u001b[39;49;00m\u001b[39m) # tangent_points is already indexable\u001b[39;49m\u001b[39m\\n\u001b[39;49;00m\u001b[39m        }\u001b[39;49m\u001b[39m\\n\u001b[39;49;00m\u001b[39m        return operator.attrgetter(attributes[key][0 if left else 1])(self)\u001b[39;49m\u001b[39m\\n\u001b[39;49;00m\u001b[39m\\n\u001b[39;49;00m\u001b[39m    def construct(self):\u001b[39;49m\u001b[39m\\n\u001b[39;49;00m\u001b[39m        self.play(title.next(\u001b[39;49m\u001b[39m\"\u001b[39;49m\u001b[39mCreate line\u001b[39;49m\u001b[39m\"\u001b[39;49m\u001b[39m))\u001b[39;49m\u001b[39m\\n\u001b[39;49;00m\u001b[39m        self.play(self._line.create())\u001b[39;49m\u001b[39m\\n\u001b[39;49;00m\u001b[39m\\n\u001b[39;49;00m\u001b[39m        self.play(title.next(\u001b[39;49m\u001b[39m\"\u001b[39;49m\u001b[39mAdd coincident constraints\u001b[39;49m\u001b[39m\"\u001b[39;49m\u001b[39m))\u001b[39;49m\u001b[39m\\n\u001b[39;49;00m\u001b[39m        self.do_coincident_move(LineEnd.START)\u001b[39;49m\u001b[39m\\n\u001b[39;49;00m\u001b[39m        self.do_coincident_move(False)\u001b[39;49m\u001b[39m\\n\u001b[39;49;00m\u001b[39m\\n\u001b[39;49;00m\u001b[39m        self.play(title.next(\u001b[39;49m\u001b[39m\"\u001b[39;49m\u001b[39mAdd tangent constraints\u001b[39;49m\u001b[39m\"\u001b[39;49m\u001b[39m))\u001b[39;49m\u001b[39m\\n\u001b[39;49;00m\u001b[39m        self.do_tangent_move(True)\u001b[39;49m\u001b[39m\\n\u001b[39;49;00m\u001b[39m        self.do_tangent_move(False)\u001b[39;49m\u001b[39m\\n\u001b[39;49;00m\u001b[39m\\n\u001b[39;49;00m\u001b[39m        self.wait(style.END_DELAY)\u001b[39;49m\u001b[39m\\n\u001b[39;49;00m\u001b[39m    \u001b[39;49m\u001b[39m\\n\u001b[39;49;00m\u001b[39m    def do_coincident_move(self, line_end: LineEnd):\u001b[39;49m\u001b[39m\\n\u001b[39;49;00m\u001b[39m        self._do_flash(line_end)\u001b[39;49m\u001b[39m\\n\u001b[39;49;00m\u001b[39m        move_function = get_vars(\u001b[39;49m\u001b[39m\\'\u001b[39;49;00m\u001b[39mmove_function\u001b[39;49m\u001b[39m\\'\u001b[39;49;00m\u001b[39m, line_end)\u001b[39;49m\u001b[39m\\n\u001b[39;49;00m\u001b[39m        if left:\u001b[39;49m\u001b[39m\\n\u001b[39;49;00m\u001b[39m            move_function = self._line.move_start\u001b[39;49m\u001b[39m\\n\u001b[39;49;00m\u001b[39m        else:\u001b[39;49m\u001b[39m\\n\u001b[39;49;00m\u001b[39m            move_function = self._line.move_end\u001b[39;49m\u001b[39m\\n\u001b[39;49;00m\u001b[39m        self.play(move_function(self._coincident_point(left)))\u001b[39;49m\u001b[39m\\n\u001b[39;49;00m\u001b[39m\\n\u001b[39;49;00m\u001b[39m    def _coincident_point(self, line_end: LineEnd) -> T.Point2d:\u001b[39;49m\u001b[39m\\n\u001b[39;49;00m\u001b[39m        if left:\u001b[39;49m\u001b[39m\\n\u001b[39;49;00m\u001b[39m            point = self._line.start_point()\u001b[39;49m\u001b[39m\\n\u001b[39;49;00m\u001b[39m            circle = self._left\u001b[39;49m\u001b[39m\\n\u001b[39;49;00m\u001b[39m        else:\u001b[39;49m\u001b[39m\\n\u001b[39;49;00m\u001b[39m            point = self._line.end_point()\u001b[39;49m\u001b[39m\\n\u001b[39;49;00m\u001b[39m            circle = self._right\u001b[39;49m\u001b[39m\\n\u001b[39;49;00m\u001b[39m        return circle.center() + geometry.normalize(point - circle.center()) * circle.outer_radius()\u001b[39;49m\u001b[39m\\n\u001b[39;49;00m\u001b[39m    \u001b[39;49m\u001b[39m\\n\u001b[39;49;00m\u001b[39m    def do_tangent_move(self, line_end: LineEnd):\u001b[39;49m\u001b[39m\\n\u001b[39;49;00m\u001b[39m        self._do_flash(line_end)\u001b[39;49m\u001b[39m\\n\u001b[39;49;00m\u001b[39m        move_function, point, tangent_point, circle = self.get_vars(\u001b[39;49m\u001b[39m\\'\u001b[39;49;00m\u001b[39mcircle\u001b[39;49m\u001b[39m\\'\u001b[39;49;00m\u001b[39m, \u001b[39;49m\u001b[39m\\'\u001b[39;49;00m\u001b[39mtangent_point\u001b[39;49m\u001b[39m\\'\u001b[39;49;00m\u001b[39m, \u001b[39;49m\u001b[39m\\'\u001b[39;49;00m\u001b[39mpoint\u001b[39;49m\u001b[39m\\'\u001b[39;49;00m\u001b[39m, \u001b[39;49m\u001b[39m\\'\u001b[39;49;00m\u001b[39mmove_function\u001b[39;49m\u001b[39m\\'\u001b[39;49;00m\u001b[39m, line_end)\u001b[39;49m\u001b[39m\\n\u001b[39;49;00m\u001b[39m\\n\u001b[39;49;00m\u001b[39m        angle = self._tangent_angle(line_end)\u001b[39;49m\u001b[39m\\n\u001b[39;49;00m\u001b[39m        self.play(move_function(tangent_point, path_arc=angle, path_arg_centers=[circle.center()]))\u001b[39;49m\u001b[39m\\n\u001b[39;49;00m\u001b[39m\\n\u001b[39;49;00m\u001b[39m    def _tangent_angle(self, line_end: LineEnd, point: T.Point2d, tangent_point: T.Point2d, center: T.Point2d) -> float:\u001b[39;49m\u001b[39m\\n\u001b[39;49;00m\u001b[39m        circle, tangent_point, point = self.get_vars(\u001b[39;49m\u001b[39m\\'\u001b[39;49;00m\u001b[39mpoint\u001b[39;49m\u001b[39m\\'\u001b[39;49;00m\u001b[39m, \u001b[39;49m\u001b[39m\\'\u001b[39;49;00m\u001b[39mtangent_point\u001b[39;49m\u001b[39m\\'\u001b[39;49;00m\u001b[39m, \u001b[39;49m\u001b[39m\\'\u001b[39;49;00m\u001b[39mcircle\u001b[39;49m\u001b[39m\\'\u001b[39;49;00m\u001b[39m)\u001b[39;49m\u001b[39m\\n\u001b[39;49;00m\u001b[39m        return (1 if line_end == LineEnd.START else -1) * angle_between_vectors(point - circle.center(), tangent_point - circle.center())\u001b[39;49m\u001b[39m\\n\u001b[39;49;00m\u001b[39m    \u001b[39;49m\u001b[39m\\n\u001b[39;49;00m\u001b[39m    def _do_flash(self, line_end: LineEnd):\u001b[39;49m\u001b[39m\\n\u001b[39;49;00m\u001b[39m        dot, circle = self.get_vars(\u001b[39;49m\u001b[39m\\'\u001b[39;49;00m\u001b[39mcircle\u001b[39;49m\u001b[39m\\'\u001b[39;49;00m\u001b[39m, \u001b[39;49m\u001b[39m\\'\u001b[39;49;00m\u001b[39mdot\u001b[39;49m\u001b[39m\\'\u001b[39;49;00m\u001b[39m, line_end)\u001b[39;49m\u001b[39m\\n\u001b[39;49;00m\u001b[39m        # self.play(Flash(dot, run_time=style.Time.MEDIUM))\u001b[39;49m\u001b[39m\\n\u001b[39;49;00m\u001b[39m        self.play(Flash(circle, flash_radius=circle.outer_radius(), num_lines=40, run_time=style.Time.MEDIUM))\u001b[39;49m\u001b[39m\\n\u001b[39;49;00m\u001b[39m'\u001b[39;49m)\n",
      "File \u001b[0;32m/usr/local/lib/python3.11/site-packages/IPython/core/interactiveshell.py:2430\u001b[0m, in \u001b[0;36mInteractiveShell.run_cell_magic\u001b[0;34m(self, magic_name, line, cell)\u001b[0m\n\u001b[1;32m   2428\u001b[0m \u001b[39mwith\u001b[39;00m \u001b[39mself\u001b[39m\u001b[39m.\u001b[39mbuiltin_trap:\n\u001b[1;32m   2429\u001b[0m     args \u001b[39m=\u001b[39m (magic_arg_s, cell)\n\u001b[0;32m-> 2430\u001b[0m     result \u001b[39m=\u001b[39m fn(\u001b[39m*\u001b[39;49margs, \u001b[39m*\u001b[39;49m\u001b[39m*\u001b[39;49mkwargs)\n\u001b[1;32m   2432\u001b[0m \u001b[39m# The code below prevents the output from being displayed\u001b[39;00m\n\u001b[1;32m   2433\u001b[0m \u001b[39m# when using magics with decodator @output_can_be_silenced\u001b[39;00m\n\u001b[1;32m   2434\u001b[0m \u001b[39m# when the last Python token in the expression is a ';'.\u001b[39;00m\n\u001b[1;32m   2435\u001b[0m \u001b[39mif\u001b[39;00m \u001b[39mgetattr\u001b[39m(fn, magic\u001b[39m.\u001b[39mMAGIC_OUTPUT_CAN_BE_SILENCED, \u001b[39mFalse\u001b[39;00m):\n",
      "File \u001b[0;32m/usr/local/lib/python3.11/site-packages/manim/utils/ipython_magic.py:141\u001b[0m, in \u001b[0;36mManimMagic.manim\u001b[0;34m(self, line, cell, local_ns)\u001b[0m\n\u001b[1;32m    139\u001b[0m     SceneClass \u001b[39m=\u001b[39m local_ns[config[\u001b[39m\"\u001b[39m\u001b[39mscene_names\u001b[39m\u001b[39m\"\u001b[39m][\u001b[39m0\u001b[39m]]\n\u001b[1;32m    140\u001b[0m     scene \u001b[39m=\u001b[39m SceneClass(renderer\u001b[39m=\u001b[39mrenderer)\n\u001b[0;32m--> 141\u001b[0m     scene\u001b[39m.\u001b[39;49mrender()\n\u001b[1;32m    142\u001b[0m \u001b[39mfinally\u001b[39;00m:\n\u001b[1;32m    143\u001b[0m     \u001b[39m# Shader cache becomes invalid as the context is destroyed\u001b[39;00m\n\u001b[1;32m    144\u001b[0m     shader_program_cache\u001b[39m.\u001b[39mclear()\n",
      "File \u001b[0;32m/usr/local/lib/python3.11/site-packages/manim/scene/scene.py:223\u001b[0m, in \u001b[0;36mScene.render\u001b[0;34m(self, preview)\u001b[0m\n\u001b[1;32m    221\u001b[0m \u001b[39mself\u001b[39m\u001b[39m.\u001b[39msetup()\n\u001b[1;32m    222\u001b[0m \u001b[39mtry\u001b[39;00m:\n\u001b[0;32m--> 223\u001b[0m     \u001b[39mself\u001b[39;49m\u001b[39m.\u001b[39;49mconstruct()\n\u001b[1;32m    224\u001b[0m \u001b[39mexcept\u001b[39;00m EndSceneEarlyException:\n\u001b[1;32m    225\u001b[0m     \u001b[39mpass\u001b[39;00m\n",
      "File \u001b[0;32m<string>:33\u001b[0m, in \u001b[0;36mconstruct\u001b[0;34m(self)\u001b[0m\n",
      "File \u001b[0;32m/workspaces/robot-concepts/rc_lib/view_utils/title_sequence.py:32\u001b[0m, in \u001b[0;36mTitleSequence.next\u001b[0;34m(self, title, color)\u001b[0m\n\u001b[1;32m     30\u001b[0m \u001b[39mif\u001b[39;00m \u001b[39mself\u001b[39m\u001b[39m.\u001b[39m_number \u001b[39m==\u001b[39m \u001b[39m2\u001b[39m:\n\u001b[1;32m     31\u001b[0m     \u001b[39mself\u001b[39m\u001b[39m.\u001b[39m_first \u001b[39m=\u001b[39m text\n\u001b[0;32m---> 32\u001b[0m     \u001b[39mreturn\u001b[39;00m Write(\u001b[39mself\u001b[39m\u001b[39m.\u001b[39m_first, run_time\u001b[39m=\u001b[39mstyle\u001b[39m.\u001b[39;49mTime\u001b[39m.\u001b[39mMEDIUM)\n\u001b[1;32m     33\u001b[0m \u001b[39melse\u001b[39;00m:\n\u001b[1;32m     34\u001b[0m     \u001b[39mreturn\u001b[39;00m Transform(\u001b[39mself\u001b[39m\u001b[39m.\u001b[39m_first, text, run_time\u001b[39m=\u001b[39mstyle\u001b[39m.\u001b[39mTime\u001b[39m.\u001b[39mMEDIUM)\n",
      "\u001b[0;31mAttributeError\u001b[0m: module 'rc_lib.style' has no attribute 'Time'"
     ]
    }
   ],
   "source": [
    "%%manim -v WARNING -$quality LineConstraintScene\n",
    "import operator\n",
    "from rc_lib.design_utils.sketch import LineEnd\n",
    "\n",
    "class LineConstraintScene(Scene):\n",
    "    def setup(self):\n",
    "        generator = factory.make_generator(1.75, 0.75)\n",
    "        self._left = generator(geometry.point_2d(-6, -2))\n",
    "        self._right = generator(geometry.point_2d(6, -2))\n",
    "        self.add(self._left, self._right)\n",
    "\n",
    "        self._tangent_points = plate.PlateCircle.tangent_points(self._left, self._right)\n",
    "\n",
    "        left_start_point = self._tangent_points[0] + geometry.point_2d(1.75, 0.75)\n",
    "        right_start_point = self._tangent_points[1] + geometry.point_2d(-2, 0.5)\n",
    "        self._line = sketch.SketchLine(left_start_point, right_start_point, color=boundary_color)\n",
    "\n",
    "        title.reset()\n",
    "    \n",
    "    def get_vars(self, *keys: str, line_end: LineEnd):\n",
    "        return [_get_var(key) for key in keys]\n",
    "\n",
    "    def _get_var(self, key: str, line_end: LineEnd):\n",
    "        attributes = {\n",
    "            'circle' : ('_left', '_right'),\n",
    "            'dot' : ('_line.get_start', '_line.get_end'),\n",
    "            'point' : ('_line.start_point', '_line.end_point'),\n",
    "            'move_function' : ('_line.move_to_start', '_line.move_to_end'),\n",
    "            'tangent_point' : ('_tangent_points') # tangent_points is already indexable\n",
    "        }\n",
    "        return operator.attrgetter(attributes[key][0 if left else 1])(self)\n",
    "\n",
    "    def construct(self):\n",
    "        self.play(title.next(\"Create line\"))\n",
    "        self.play(self._line.create())\n",
    "\n",
    "        self.play(title.next(\"Add coincident constraints\"))\n",
    "        self.do_coincident_move(LineEnd.START)\n",
    "        self.do_coincident_move(False)\n",
    "\n",
    "        self.play(title.next(\"Add tangent constraints\"))\n",
    "        self.do_tangent_move(True)\n",
    "        self.do_tangent_move(False)\n",
    "\n",
    "        self.wait(style.END_DELAY)\n",
    "    \n",
    "    def do_coincident_move(self, line_end: LineEnd):\n",
    "        self._do_flash(line_end)\n",
    "        move_function = get_vars('move_function', line_end)\n",
    "        if left:\n",
    "            move_function = self._line.move_start\n",
    "        else:\n",
    "            move_function = self._line.move_end\n",
    "        self.play(move_function(self._coincident_point(left)))\n",
    "\n",
    "    def _coincident_point(self, line_end: LineEnd) -> T.Point2d:\n",
    "        if left:\n",
    "            point = self._line.start_point()\n",
    "            circle = self._left\n",
    "        else:\n",
    "            point = self._line.end_point()\n",
    "            circle = self._right\n",
    "        return circle.center() + geometry.normalize(point - circle.center()) * circle.outer_radius()\n",
    "    \n",
    "    def do_tangent_move(self, line_end: LineEnd):\n",
    "        self._do_flash(line_end)\n",
    "        move_function, point, tangent_point, circle = self.get_vars('circle', 'tangent_point', 'point', 'move_function', line_end)\n",
    "\n",
    "        angle = self._tangent_angle(line_end)\n",
    "        self.play(move_function(tangent_point, path_arc=angle, path_arg_centers=[circle.center()]))\n",
    "\n",
    "    def _tangent_angle(self, line_end: LineEnd, point: T.Point2d, tangent_point: T.Point2d, center: T.Point2d) -> float:\n",
    "        circle, tangent_point, point = self.get_vars('point', 'tangent_point', 'circle')\n",
    "        return (1 if line_end == LineEnd.START else -1) * angle_between_vectors(point - circle.center(), tangent_point - circle.center())\n",
    "    \n",
    "    def _do_flash(self, line_end: LineEnd):\n",
    "        dot, circle = self.get_vars('circle', 'dot', line_end)\n",
    "        # self.play(Flash(dot, run_time=0.75))\n",
    "        self.play(Flash(circle, flash_radius=circle.outer_radius(), num_lines=40, run_time=0.75))"
   ]
  }
 ],
 "metadata": {
  "kernelspec": {
   "display_name": "Python 3",
   "language": "python",
   "name": "python3"
  },
  "language_info": {
   "codemirror_mode": {
    "name": "ipython",
    "version": 3
   },
   "file_extension": ".py",
   "mimetype": "text/x-python",
   "name": "python",
   "nbconvert_exporter": "python",
   "pygments_lexer": "ipython3",
   "version": "3.11.2"
  },
  "orig_nbformat": 4,
  "vscode": {
   "interpreter": {
    "hash": "e7370f93d1d0cde622a1f8e1c04877d8463912d04d973331ad4851f04de6915a"
   }
  }
 },
 "nbformat": 4,
 "nbformat_minor": 2
}
