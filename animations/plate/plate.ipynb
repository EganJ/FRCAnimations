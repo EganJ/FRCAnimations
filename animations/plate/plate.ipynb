{
 "cells": [
  {
   "attachments": {},
   "cell_type": "markdown",
   "metadata": {},
   "source": [
    "The reccomend way to create plates is by first drawing your holes and other relevant geometry, marking out the outer boundary using a second set of circles, and then connecting the boundary with tangent lines."
   ]
  },
  {
   "attachments": {},
   "cell_type": "markdown",
   "metadata": {},
   "source": [
    "In the event a hole is too close to the edge of a plate, you may need to redraw the boundary."
   ]
  },
  {
   "cell_type": "code",
   "execution_count": null,
   "metadata": {},
   "outputs": [
    {
     "name": "stderr",
     "output_type": "stream",
     "text": [
      "                                                                                                    \r"
     ]
    },
    {
     "data": {
      "text/html": [
       "<video src=\"media/jupyter/BoundaryRedrawScene@2023-03-04@00-28-20.mp4\" controls autoplay loop style=\"max-width: 60%;\"  >\n",
       "      Your browser does not support the <code>video</code> element.\n",
       "    </video>"
      ],
      "text/plain": [
       "<IPython.core.display.Video object>"
      ]
     },
     "metadata": {},
     "output_type": "display_data"
    }
   ],
   "source": [
    "%%manim -v WARNING $quality BoundaryRedrawScene\n",
    "\n",
    "class BoundaryRedrawScene(Scene):\n",
    "    def construct(self):\n",
    "        left = PlateCircle(1.75, 0.75)\n",
    "        right = PlateCircle(1.75, 0.75)\n",
    "        left.move_to([-6, -2, 0])\n",
    "        right.move_to([6, -2, 0])\n",
    "        self.add(left)\n",
    "        self.add(right)\n",
    "\n",
    "        line = PlateCircle.tangent_line(right, left)\n",
    "        self.add(line)\n",
    "\n",
    "        middle = PlateCircle(1, 0.75)\n",
    "        middle.move_to([0, -.75, 0])\n",
    "        self.add(middle.inner_circle())\n",
    "\n",
    "        title = Text(\"1. Add outer circle\", font_size=MED_FONT)\n",
    "        title.to_corner(LEFT + UP)\n",
    "        self.play(Write(title))\n",
    "        self.play(middle.draw_outer_circle())\n",
    "\n",
    "        title_2 = Text(\"2. Redraw boundary\", font_size=MED_FONT)\n",
    "        title_2.to_corner(LEFT + UP)\n",
    "        self.play(Transform(title, title_2))\n",
    "\n",
    "        self.play(Uncreate(line))\n",
    "        self.play(Create(PlateCircle.tangent_line(right, middle)))\n",
    "        self.play(Create(PlateCircle.tangent_line(middle, left)))\n",
    "        self.wait(3)"
   ]
  },
  {
   "cell_type": "code",
   "execution_count": null,
   "metadata": {},
   "outputs": [
    {
     "name": "stderr",
     "output_type": "stream",
     "text": [
      "                                                                                                     \r"
     ]
    },
    {
     "data": {
      "text/html": [
       "<video src=\"media/jupyter/LineConstraintScene@2023-03-04@02-37-20.mp4\" controls autoplay loop style=\"max-width: 60%;\"  >\n",
       "      Your browser does not support the <code>video</code> element.\n",
       "    </video>"
      ],
      "text/plain": [
       "<IPython.core.display.Video object>"
      ]
     },
     "metadata": {},
     "output_type": "display_data"
    }
   ],
   "source": [
    "%%manim -v WARNING -$quality LineConstraintScene\n",
    "\n",
    "class LineConstraintScene(Scene):\n",
    "    def construct(self):\n",
    "        left = PlateCircle(1.75, 0.75)\n",
    "        right = PlateCircle(1.75, 0.75)\n",
    "        left.move_to([-6, -2, 0])\n",
    "        right.move_to([6, -2, 0])\n",
    "        self.add(left)\n",
    "        self.add(right)\n",
    "\n",
    "        tangent_points = PlateCircle.tangent_points(right, left)\n",
    "\n",
    "        title = Text(\"1. Create line\", font_size=MED_FONT)\n",
    "        title.to_corner(LEFT + UP)\n",
    "        self.play(Write(title))\n",
    "\n",
    "        left_start_point = tangent_points[1] + [1.75, 0.75, 0]\n",
    "        right_start_point = tangent_points[0] + [-2, 0.5, 0]\n",
    "        line = LineSegment(left_start_point, right_start_point)\n",
    "\n",
    "        self.play(line.create())\n",
    "\n",
    "        title_2 = Text(\"2. Add coincident constraints\", font_size=MED_FONT)\n",
    "        title_2.to_corner(LEFT + UP)\n",
    "        self.play(Transform(title, title_2))\n",
    "\n",
    "        left_coincident_point = left.center() + normalize(left_start_point - left.center()) * left.outer_radius()\n",
    "        self.flash(line.start_point(), left)\n",
    "        self.play(line.move_start(left_coincident_point))\n",
    "\n",
    "        right_coincident_point = right.center() + normalize(right_start_point - right.center()) * right.outer_radius()\n",
    "        self.flash(line.end_point(), right)\n",
    "        self.play(line.move_end(right_coincident_point))\n",
    "\n",
    "\n",
    "        title_3 = Text(\"3. Add tangent constraints\", font_size=MED_FONT)\n",
    "        title_3.to_corner(LEFT + UP)\n",
    "        self.play(Transform(title, title_3))\n",
    "\n",
    "        self.flash(line.start_point(), left)\n",
    "        angle = angle_between_vectors(left_coincident_point - left.center(), tangent_points[1] - left.center())\n",
    "        self.play(line.move_start(tangent_points[1]), path_arc=angle, path_arg_centers=[left.center()])\n",
    "\n",
    "        self.flash(line.end_point(), right)\n",
    "        angle = -angle_between_vectors(right_coincident_point - right.center(), tangent_points[0] - right.center())\n",
    "        self.play(line.move_end(tangent_points[0]), path_arc=angle, path_arg_centers=[right.center()])\n",
    "\n",
    "        self.wait(3)\n",
    "    \n",
    "    def flash(self, point, circle):\n",
    "        self.play(Flash(point), run_time=0.75)\n",
    "        self.play(Flash(circle, flash_radius=circle.outer_radius(), num_lines=40), run_time=0.75)\n"
   ]
  }
 ],
 "metadata": {
  "kernelspec": {
   "display_name": "Python 3",
   "language": "python",
   "name": "python3"
  },
  "language_info": {
   "codemirror_mode": {
    "name": "ipython",
    "version": 3
   },
   "file_extension": ".py",
   "mimetype": "text/x-python",
   "name": "python",
   "nbconvert_exporter": "python",
   "pygments_lexer": "ipython3",
   "version": "3.10.9"
  },
  "orig_nbformat": 4,
  "vscode": {
   "interpreter": {
    "hash": "e7370f93d1d0cde622a1f8e1c04877d8463912d04d973331ad4851f04de6915a"
   }
  }
 },
 "nbformat": 4,
 "nbformat_minor": 2
}
