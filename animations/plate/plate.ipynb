{
 "cells": [
  {
   "cell_type": "code",
   "execution_count": 1,
   "metadata": {},
   "outputs": [
    {
     "data": {
      "text/html": [
       "<pre style=\"white-space:pre;overflow-x:auto;line-height:normal;font-family:Menlo,'DejaVu Sans Mono',consolas,'Courier New',monospace\">Manim Community <span style=\"color: #008000; text-decoration-color: #008000\">v0.17.2</span>\n",
       "\n",
       "</pre>\n"
      ],
      "text/plain": [
       "Manim Community \u001b[32mv0.\u001b[0m\u001b[32m17.2\u001b[0m\n",
       "\n"
      ]
     },
     "metadata": {},
     "output_type": "display_data"
    }
   ],
   "source": [
    "from manim import *\n",
    "\n",
    "from rc_lib import math_types as T\n",
    "from rc_lib import style\n",
    "from rc_lib.math_utils import geometry\n",
    "from rc_lib.design_utils import plate, sketch\n",
    "from rc_lib.view_utils import title_sequence\n",
    "\n",
    "quality = \"ql\""
   ]
  },
  {
   "cell_type": "code",
   "execution_count": 2,
   "metadata": {},
   "outputs": [],
   "source": [
    "inner_color = style.Color.GREEN\n",
    "boundary_color = style.Color.BLUE\n",
    "factory = plate.PlateCircleFactory()\n",
    "factory.set_inner_color(inner_color).set_outer_color(boundary_color)\n",
    "\n",
    "title = title_sequence.TitleSequence(default_color=boundary_color)"
   ]
  },
  {
   "attachments": {},
   "cell_type": "markdown",
   "metadata": {},
   "source": [
    "The reccomended way to create plates is by first drawing your holes and other relevant geometry, marking out the outer boundary using a second set of circles, and then connecting the boundary with tangent lines."
   ]
  },
  {
   "cell_type": "code",
   "execution_count": 3,
   "metadata": {},
   "outputs": [
    {
     "name": "stderr",
     "output_type": "stream",
     "text": [
      "                                                                                                    \r"
     ]
    },
    {
     "data": {
      "text/html": [
       "<video src=\"media/jupyter/IntakePlateScene@2023-03-11@04-34-05.mp4\" controls autoplay loop style=\"max-width: 60%;\"  >\n",
       "      Your browser does not support the <code>video</code> element.\n",
       "    </video>"
      ],
      "text/plain": [
       "<IPython.core.display.Video object>"
      ]
     },
     "metadata": {},
     "output_type": "display_data"
    }
   ],
   "source": [
    "%%manim -v WARNING --disable_caching -$quality IntakePlateScene\n",
    "\n",
    "class IntakePlateScene(Scene):\n",
    "    def setup(self):\n",
    "        small_base = factory.get_generator(0.15, 0.2)\n",
    "        medium_base = factory.get_generator(0.4, 0.2)\n",
    "\n",
    "        front_hole = geometry.point_2d(-4, -3)\n",
    "        middle_hole = geometry.point_2d(-1.5, 0.25)\n",
    "        back_hole = geometry.point_2d(2.5, 1.5)\n",
    "        back_offset = geometry.point_2d(0.8, 0.75)\n",
    "\n",
    "        points = [\n",
    "            medium_base(front_hole),\n",
    "            medium_base(middle_hole),\n",
    "            medium_base(back_hole),\n",
    "            small_base(back_hole + back_offset),\n",
    "            small_base(back_hole + geometry.point_2d(1, -0.2)),\n",
    "            small_base((middle_hole + back_hole) / 2),\n",
    "            small_base((front_hole + middle_hole) / 2)\n",
    "        ]\n",
    "        boundary_order = [1, 3, 4, 0]\n",
    "        self.plate_group = plate.PlateGroup(points, boundary_order, boundary_color=boundary_color)\n",
    "        title.reset()\n",
    "\n",
    "    def construct(self):\n",
    "        self.play(title.next(\"Draw plate holes\", color=inner_color))\n",
    "        self.play(self.plate_group.draw_inner_circles(lag_ratio=0.5))\n",
    "        self.wait(style.Time.STANDARD)\n",
    "\n",
    "        self.play(title.next(\"Add larger circles\"))\n",
    "        self.play(self.plate_group.draw_outer_circles(lag_ratio=0.5))\n",
    "        self.wait(style.Time.STANDARD)\n",
    "\n",
    "        self.play(title.next(\"Connect boundary\"))\n",
    "        self.play(self.plate_group.draw_boundary(lag_ratio=0.75, run_time=style.Time.SLOW * 3))\n",
    "        # self.wait(style.Time.STANDARD)\n",
    "\n",
    "        # self.play(title.next(\"Trim\", color=boundary_color))\n",
    "        # self.play(plate_group.trim(), run_time=style.Time.SLOW * 3)\n",
    "\n",
    "        self.wait(style.Time.END)"
   ]
  },
  {
   "attachments": {},
   "cell_type": "markdown",
   "metadata": {},
   "source": [
    "In the event a hole is too close to the edge of a plate, you may need to redraw the boundary."
   ]
  },
  {
   "cell_type": "code",
   "execution_count": 4,
   "metadata": {},
   "outputs": [
    {
     "name": "stderr",
     "output_type": "stream",
     "text": [
      "                                                                                                    \r"
     ]
    },
    {
     "data": {
      "text/html": [
       "<video src=\"media/jupyter/BoundaryRedrawScene@2023-03-11@04-34-09.mp4\" controls autoplay loop style=\"max-width: 60%;\"  >\n",
       "      Your browser does not support the <code>video</code> element.\n",
       "    </video>"
      ],
      "text/plain": [
       "<IPython.core.display.Video object>"
      ]
     },
     "metadata": {},
     "output_type": "display_data"
    }
   ],
   "source": [
    "%%manim -v WARNING --disable_caching -$quality BoundaryRedrawScene\n",
    "\n",
    "class BoundaryRedrawScene(Scene):\n",
    "    def setup(self):\n",
    "        generator = factory.get_generator(1.75, 0.75)\n",
    "        self.left = generator(geometry.point_2d(-6, -2))\n",
    "        self.right = generator(geometry.point_2d(6, -2))\n",
    "        self.middle = factory.make(1, 0.75, geometry.point_2d(0, -0.75))\n",
    "\n",
    "        self.line = plate.PlateCircle.tangent_line(self.left, self.right, style.Color.RED)\n",
    "        self.add(self.left, self.right, self.line, self.middle.inner_circle())\n",
    "\n",
    "        title.reset()\n",
    "\n",
    "    def construct(self):\n",
    "        self.play(title.next(\"Add outer circle\"))\n",
    "        self.play(self.middle.draw_outer_circle())\n",
    "\n",
    "        self.play(title.next(\"Redraw boundary\"))\n",
    "        self.play(Uncreate(self.line))\n",
    "        self.wait(style.Time.FAST)\n",
    "        self.play(Create(plate.PlateCircle.tangent_line(self.left, self.middle, boundary_color)))\n",
    "        self.play(Create(plate.PlateCircle.tangent_line(self.middle, self.right, boundary_color)))\n",
    "\n",
    "        self.wait(style.Time.END)"
   ]
  },
  {
   "cell_type": "code",
   "execution_count": 11,
   "metadata": {},
   "outputs": [
    {
     "name": "stderr",
     "output_type": "stream",
     "text": [
      "                                                                                           \r"
     ]
    },
    {
     "data": {
      "text/html": [
       "<video src=\"media/jupyter/LineConstraintScene@2023-03-11@05-30-05.mp4\" controls autoplay loop style=\"max-width: 60%;\"  >\n",
       "      Your browser does not support the <code>video</code> element.\n",
       "    </video>"
      ],
      "text/plain": [
       "<IPython.core.display.Video object>"
      ]
     },
     "metadata": {},
     "output_type": "display_data"
    }
   ],
   "source": [
    "%%manim -v WARNING -$quality LineConstraintScene\n",
    "\n",
    "class LineConstraintScene(Scene):\n",
    "    def setup(self):\n",
    "        generator = factory.get_generator(1.75, 0.75)\n",
    "        self.left = generator(geometry.point_2d(-6, -2))\n",
    "        self.right = generator(geometry.point_2d(6, -2))\n",
    "        self.add(self.left, self.right)\n",
    "\n",
    "        self.tangent_points = plate.PlateCircle.tangent_points(self.left, self.right)\n",
    "\n",
    "        left_start_point = self.tangent_points[0] + geometry.point_2d(1.75, 0.75)\n",
    "        right_start_point = self.tangent_points[1] + geometry.point_2d(-2, 0.5)\n",
    "        self.line = sketch.SketchLine(left_start_point, right_start_point, color=boundary_color)\n",
    "\n",
    "        title.reset()\n",
    "\n",
    "    def construct(self):\n",
    "        self.play(title.next(\"Create line\"))\n",
    "        self.play(self.line.create())\n",
    "\n",
    "        self.play(title.next(\"Add coincident constraints\"))\n",
    "        self._do_coincident_move(True)\n",
    "        self._do_coincident_move(False)\n",
    "\n",
    "        self.play(title.next(\"Add tangent constraints\"))\n",
    "        self._do_tangent_move(True)\n",
    "        self._do_tangent_move(False)\n",
    "\n",
    "        self.wait(style.Time.END)\n",
    "    \n",
    "    def _do_coincident_move(self, left: bool):\n",
    "        self._do_flash(left)\n",
    "        if left:\n",
    "            move_function = self.line.move_start\n",
    "        else:\n",
    "            move_function = self.line.move_end\n",
    "        self.play(move_function(self._coincident_point(left)))\n",
    "\n",
    "    def _coincident_point(self, left: bool) -> T.Point2d:\n",
    "        if left:\n",
    "            point = self.line.start_point()\n",
    "            circle = self.left\n",
    "        else:\n",
    "            point = self.line.end_point()\n",
    "            circle = self.right\n",
    "        return circle.center() + geometry.normalize(point - circle.center()) * circle.outer_radius()\n",
    "    \n",
    "    def _do_tangent_move(self, left: bool):\n",
    "        self._do_flash(left)\n",
    "        if left:\n",
    "            move_function = self.line.move_start\n",
    "            point = self.line.start_point()\n",
    "            tangent_point = self.tangent_points[0]\n",
    "            circle = self.left\n",
    "        else:\n",
    "            move_function = self.line.move_end\n",
    "            point = self.line.end_point()\n",
    "            tangent_point = self.tangent_points[1]\n",
    "            circle = self.right\n",
    "\n",
    "        angle = self._tangent_angle(left, point, tangent_point, circle.center())\n",
    "        self.play(move_function(tangent_point, path_arc=angle, path_arg_centers=[circle.center()]))\n",
    "    \n",
    "    def _tangent_angle(self, left: bool, point: T.Point2d, tangent_point: T.Point2d, center: T.Point2d) -> float:\n",
    "        return (1 if left else -1) * angle_between_vectors(point - center, tangent_point - center)\n",
    "    \n",
    "    def _do_flash(self, left: bool):\n",
    "        left_or_right = 'left'\n",
    "        if left:\n",
    "            dot = self.line.start()\n",
    "            circle = self.left\n",
    "            # getattr(self, left_or_right)\n",
    "        else:\n",
    "            dot = self.line.end()\n",
    "            circle = self.right\n",
    "\n",
    "        self.play(Flash(dot, run_time=style.Time.MEDIUM))\n",
    "        self.play(Flash(circle, flash_radius=circle.outer_radius(), num_lines=40, run_time=style.Time.MEDIUM))"
   ]
  }
 ],
 "metadata": {
  "kernelspec": {
   "display_name": "Python 3",
   "language": "python",
   "name": "python3"
  },
  "language_info": {
   "codemirror_mode": {
    "name": "ipython",
    "version": 3
   },
   "file_extension": ".py",
   "mimetype": "text/x-python",
   "name": "python",
   "nbconvert_exporter": "python",
   "pygments_lexer": "ipython3",
   "version": "3.11.2"
  },
  "orig_nbformat": 4,
  "vscode": {
   "interpreter": {
    "hash": "e7370f93d1d0cde622a1f8e1c04877d8463912d04d973331ad4851f04de6915a"
   }
  }
 },
 "nbformat": 4,
 "nbformat_minor": 2
}
