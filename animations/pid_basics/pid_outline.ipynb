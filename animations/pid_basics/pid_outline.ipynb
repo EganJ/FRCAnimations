{
 "cells": [
  {
   "cell_type": "code",
   "execution_count": 1,
   "metadata": {},
   "outputs": [
    {
     "data": {
      "text/html": [
       "<pre style=\"white-space:pre;overflow-x:auto;line-height:normal;font-family:Menlo,'DejaVu Sans Mono',consolas,'Courier New',monospace\">Manim Community <span style=\"color: #008000; text-decoration-color: #008000\">v0.17.2</span>\n",
       "\n",
       "</pre>\n"
      ],
      "text/plain": [
       "Manim Community \u001b[32mv0.\u001b[0m\u001b[32m17.2\u001b[0m\n",
       "\n"
      ]
     },
     "metadata": {},
     "output_type": "display_data"
    }
   ],
   "source": [
    "from manim import *"
   ]
  },
  {
   "attachments": {},
   "cell_type": "markdown",
   "metadata": {},
   "source": [
    "This is a robot:"
   ]
  },
  {
   "cell_type": "code",
   "execution_count": 2,
   "metadata": {},
   "outputs": [],
   "source": [
    "%%manim -v WARNING -ql IntroduceRobotScene\n",
    "from pid_scenes import IntroduceRobotScene"
   ]
  },
  {
   "attachments": {},
   "cell_type": "markdown",
   "metadata": {},
   "source": [
    "It doesn't look like much, but the robot can move along one dimension to the left and right.\n",
    "It does this using its wheels (not pictured), which are attached to motors.\n",
    "\n",
    "When the robot wants to move, it sends power to the motors, which\n",
    "will produce a **force**. A force is a push on an object that, over time, affects \n",
    "its speed: for a deeper understanding of force, [Khan Academy](https://www.khanacademy.org/science/hs-physics/x215e29cb31244fa1:forces-and-motion) has some good resources.\n",
    "\n",
    "> Side note: most motors do not, in the strictest sense, produce a force, but rather\n",
    "> a **torque**, which is a rotation rather than a push: the wheels on the ground use\n",
    "> friction to convert this into a force. Motors produce torque in \n",
    "> complex ways that depends on things like the input power, speed, and their temperature.\n",
    "> For this document, we will be dealing with an ideal robot that converts motor power\n",
    "> directly to force with a fixed efficiency.\n",
    "\n",
    "Here's what the robot would do if we applied a constant force to the right:"
   ]
  },
  {
   "cell_type": "code",
   "execution_count": null,
   "metadata": {},
   "outputs": [
    {
     "name": "stderr",
     "output_type": "stream",
     "text": [
      "                                                                                   \r"
     ]
    },
    {
     "data": {
      "text/html": [
       "<video src=\"media/jupyter/DriveRightScene@2023-04-01@03-18-04.mp4\" controls autoplay loop style=\"max-width: 60%;\"  >\n",
       "      Your browser does not support the <code>video</code> element.\n",
       "    </video>"
      ],
      "text/plain": [
       "<IPython.core.display.Video object>"
      ]
     },
     "metadata": {},
     "output_type": "display_data"
    }
   ],
   "source": [
    "%%manim -v WARNING -ql DriveRightScene\n",
    "from pid_scenes import DriveRightScene"
   ]
  },
  {
   "attachments": {},
   "cell_type": "markdown",
   "metadata": {},
   "source": [
    "The force from the motors is not the only force on the robot: there is also **friction**,\n",
    "which would bring the robot to a stop after a while when we cut power to the motors. Friction\n",
    "forces always act to slow the robot down, and at a high school-level of understanding\n",
    "depends on the surfaces in contact and the force pressing them together: for a\n",
    "fixed-weight robot driving on just one type of surface, it is essentially a constant."
   ]
  },
  {
   "cell_type": "code",
   "execution_count": null,
   "metadata": {},
   "outputs": [
    {
     "name": "stderr",
     "output_type": "stream",
     "text": [
      "                                                                                 \r"
     ]
    },
    {
     "data": {
      "text/html": [
       "<video src=\"media/jupyter/DemonstrateFrictionScene@2023-04-01@03-18-07.mp4\" controls autoplay loop style=\"max-width: 60%;\"  >\n",
       "      Your browser does not support the <code>video</code> element.\n",
       "    </video>"
      ],
      "text/plain": [
       "<IPython.core.display.Video object>"
      ]
     },
     "metadata": {},
     "output_type": "display_data"
    }
   ],
   "source": [
    "%%manim -v WARNING -ql DemonstrateFrictionScene\n",
    "from pid_scenes import DemonstrateFrictionScene"
   ]
  },
  {
   "attachments": {},
   "cell_type": "markdown",
   "metadata": {},
   "source": [
    "## The Controls Problem\n",
    "\n",
    "Understanding how the robot accelerates is all well and good, but in robotics we\n",
    "are often interested in other aspects of our robot, such as its position or sometimes\n",
    "speed. We are generally more concerned with moving the robot (or, as we will see\n",
    "later, an arm, elevator, or other mechanism) to a specific position than we are\n",
    "with accelerating it. \n",
    "\n",
    "We cannot directly control the position or speed of the robot: objects cannot\n",
    "teleport, and they cannot instantaneously achieve a desired speed. This leaves us\n",
    "with a question, which is what this document intends to address: \n",
    "> How can we use acceleration to achieve a target position?"
   ]
  },
  {
   "attachments": {},
   "cell_type": "markdown",
   "metadata": {},
   "source": [
    "### Bang-Bang control\n",
    "\n",
    "One very intuitive method is **Bang-Bang** control, which operates on a very simple\n",
    "strategy:\n",
    " * If you are below (to the left, in our case) your target value, apply a fixed force up\n",
    " * If you are above (to the right) your target value, apply a fixed force down"
   ]
  },
  {
   "cell_type": "code",
   "execution_count": null,
   "metadata": {},
   "outputs": [],
   "source": []
  }
 ],
 "metadata": {
  "kernelspec": {
   "display_name": "Python 3",
   "language": "python",
   "name": "python3"
  },
  "language_info": {
   "codemirror_mode": {
    "name": "ipython",
    "version": 3
   },
   "file_extension": ".py",
   "mimetype": "text/x-python",
   "name": "python",
   "nbconvert_exporter": "python",
   "pygments_lexer": "ipython3",
   "version": "3.11.2"
  },
  "orig_nbformat": 4
 },
 "nbformat": 4,
 "nbformat_minor": 2
}
