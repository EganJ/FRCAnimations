{
 "cells": [
  {
   "cell_type": "code",
   "execution_count": 271,
   "metadata": {},
   "outputs": [],
   "source": [
    "from manim import *\n",
    "import numpy as np\n",
    "from typing import List, TypeVar\n",
    "\n",
    "quality = \"ql\""
   ]
  },
  {
   "cell_type": "code",
   "execution_count": 272,
   "metadata": {},
   "outputs": [],
   "source": [
    "# Font sizes\n",
    "SMALL_FONT = 24\n",
    "MED_FONT = 32\n",
    "LARGE_FONT = 48\n",
    "\n",
    "# Colors\n",
    "C_HIGHLIGHT = TEAL_C\n",
    "C_EMPHASIS = ORANGE"
   ]
  },
  {
   "cell_type": "code",
   "execution_count": 273,
   "metadata": {},
   "outputs": [],
   "source": [
    "from math import acos, atan2, cos, sin\n",
    "\n",
    "def squared_norm(vector: np.array) -> float:\n",
    "    return np.dot(vector, vector)\n",
    "\n",
    "def norm(vector: np.array) -> float:\n",
    "    \"\"\"\n",
    "    Returns the length of a vector.\n",
    "    \"\"\"\n",
    "    return squared_norm(vector) ** 0.5\n",
    "\n",
    "\n",
    "def normalize(vector: np.array) -> np.array:\n",
    "    \"\"\"\n",
    "    Returns the vector normalized so that it has length 1.\n",
    "    \"\"\"\n",
    "    return vector / norm(vector)\n",
    "\n",
    "def circle_to_circle_tangent(center1: np.array, radius1: float, center2: np.array, radius2: float) -> List[np.array]:\n",
    "    \"\"\"\n",
    "    Returns the outer tangent line between two circles.\n",
    "    The tangent is such that it is on the outside of 1 and 2 when they are arranged in counter-clockwise fashion.\n",
    "    \"\"\"\n",
    "    radius1 *= -1\n",
    "    radius2 *= -1\n",
    "    dist = norm(center2 - center1)\n",
    "\n",
    "    delta = (center2 - center1) / dist\n",
    "    cross = np.array([-delta[1], delta[0], 0])\n",
    "    alpha = (radius1 - radius2) / dist\n",
    "    beta = (1 - alpha ** 2) ** 0.5\n",
    "    return [\n",
    "        center1 + (alpha * delta + beta * cross) * radius1,\n",
    "        center2 + (alpha * delta + beta * cross) * radius2\n",
    "    ]\n",
    "\n",
    "def circle_to_point_tangent(center: np.array, radius: float, point: np.array) -> np.array:\n",
    "    dist = norm(point - center)\n",
    "    angle = acos(radius / dist)\n",
    "    angle_offset = atan2(point[1] - center[1], point[0] - center[0])\n",
    "    return np.array([\n",
    "        center[0] + radius * cos(angle_offset - angle),\n",
    "        center[1] + radius * sin(angle_offset - angle),\n",
    "        0\n",
    "    ])\n",
    "\n",
    "def circle_to_point_tangent(point: np.array, center: np.array, radius: float) -> List[float]:\n",
    "    return circle_to_circle_tangent(center, -radius, point)"
   ]
  },
  {
   "cell_type": "code",
   "execution_count": 274,
   "metadata": {},
   "outputs": [],
   "source": [
    "\n",
    "T = TypeVar('T')\n",
    "class PlateCircle(VGroup):\n",
    "    def __init__(self, radius: float, offset: float) -> None:\n",
    "        super().__init__()\n",
    "        self._inner_circle = Circle(radius)\n",
    "        self._outer_circle = Circle(radius + offset)\n",
    "        self.add(self._inner_circle)\n",
    "        self.add(self._outer_circle)\n",
    "\n",
    "    def get_center(self) -> np.array:\n",
    "        return self._inner_circle.get_center()\n",
    "    \n",
    "    def get_radius(self) -> float:\n",
    "        return self._outer_circle.radius\n",
    "    \n",
    "    def copy(self: T, center: np.array) -> T:\n",
    "        return super().copy().move_to(center)\n",
    "    \n",
    "    def draw_inner_circle(self) -> Animation:\n",
    "        return GrowFromCenter(self._inner_circle)\n",
    "    \n",
    "    def draw_outer_circle(self) -> Animation:\n",
    "        return GrowFromCenter(self._outer_circle)\n",
    "\n",
    "    \n",
    "    def draw_annulus(self) -> Animation:\n",
    "        \"\"\"\n",
    "        Shades the annulus region between the two circles.\n",
    "        \"\"\"\n",
    "        "
   ]
  },
  {
   "cell_type": "code",
   "execution_count": 275,
   "metadata": {},
   "outputs": [],
   "source": [
    "class Plate(VGroup):\n",
    "    def __init__(self, points: List[PlateCircle], inside_indices: List[int]) -> None:\n",
    "        self._points = points\n",
    "        super().__init__(*self._points)\n",
    "        self._inside = [points[i] for i in inside_indices]\n",
    "        self._boundary = filter(lambda p: p not in self._inside, self._points)\n",
    "    \n",
    "    def draw_inner_circles(self) -> AnimationGroup:\n",
    "        return AnimationGroup(*[x.draw_inner_circle() for x in self._points], lag_ratio=0.35)\n",
    "\n",
    "    def draw_outer_circles(self) -> AnimationGroup:\n",
    "        return AnimationGroup(*[x.draw_outer_circle() for x in self._points], lag_ratio =0.35)\n",
    "    \n",
    "    # def draw_boundary(self) -> AnimationGroup:\n",
    "    #     for i in range(len(self._boundary)):\n",
    "    #         curr = self._boundary[i]\n",
    "    #         next = self._boundary[(i + 1) % len(self._boundary)]"
   ]
  },
  {
   "cell_type": "code",
   "execution_count": 276,
   "metadata": {},
   "outputs": [
    {
     "name": "stderr",
     "output_type": "stream",
     "text": [
      "                                                                                   \r"
     ]
    },
    {
     "data": {
      "text/html": [
       "<video src=\"media/jupyter/DrawPlateCirclesScene@2023-03-03@20-22-51.mp4\" controls autoplay loop style=\"max-width: 60%;\"  >\n",
       "      Your browser does not support the <code>video</code> element.\n",
       "    </video>"
      ],
      "text/plain": [
       "<IPython.core.display.Video object>"
      ]
     },
     "metadata": {},
     "output_type": "display_data"
    }
   ],
   "source": [
    "%%manim -v WARNING --disable_caching -$quality DrawPlateCirclesScene\n",
    "\n",
    "class DrawPlateCirclesScene(Scene):\n",
    "    def construct(self):\n",
    "        smallBase = PlateCircle(0.15, 0.2)\n",
    "        mediumBase = PlateCircle(0.4, 0.2)\n",
    "\n",
    "        front_hole = np.array([-4, -2, 0])\n",
    "        middle_hole = np.array([-1.5, 1.25, 0])\n",
    "        back_hole = np.array([2.5, 2.5, 0])\n",
    "        back_offset = np.array([0.75, 0.6, 0])\n",
    "\n",
    "        points = [\n",
    "            smallBase.copy(back_hole + back_offset),\n",
    "            # smallBase.copy(back_hole + )\n",
    "            mediumBase.copy(back_hole),\n",
    "            smallBase.copy((middle_hole + back_hole) / 2),\n",
    "            mediumBase.copy(middle_hole),\n",
    "            smallBase.copy((front_hole + middle_hole) / 2),\n",
    "            mediumBase.copy(front_hole),\n",
    "        ]\n",
    "\n",
    "        plate = Plate(points, [2, 4])\n",
    "\n",
    "        self.play(plate.draw_inner_circles())\n",
    "        self.wait(1)\n",
    "        self.play(plate.draw_outer_circles())\n",
    "\n",
    "        # left.draw_outer_circle()\n",
    "        # right.draw_outer_circle()"
   ]
  }
 ],
 "metadata": {
  "kernelspec": {
   "display_name": "Python 3",
   "language": "python",
   "name": "python3"
  },
  "language_info": {
   "codemirror_mode": {
    "name": "ipython",
    "version": 3
   },
   "file_extension": ".py",
   "mimetype": "text/x-python",
   "name": "python",
   "nbconvert_exporter": "python",
   "pygments_lexer": "ipython3",
   "version": "3.9.2"
  },
  "orig_nbformat": 4,
  "vscode": {
   "interpreter": {
    "hash": "eb4a0ac80907d7f44e1a5e88d3d3381b33e3dbedd3a24d113e876f30a0c46bee"
   }
  }
 },
 "nbformat": 4,
 "nbformat_minor": 2
}
