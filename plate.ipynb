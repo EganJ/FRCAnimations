{
 "cells": [
  {
   "cell_type": "code",
   "execution_count": 230,
   "metadata": {},
   "outputs": [],
   "source": [
    "from manim import *\n",
    "import numpy as np\n",
    "from typing import List, TypeVar\n",
    "\n",
    "quality = \"ql\""
   ]
  },
  {
   "cell_type": "code",
   "execution_count": 231,
   "metadata": {},
   "outputs": [],
   "source": [
    "# Font sizes\n",
    "SMALL_FONT = 24\n",
    "MED_FONT = 32\n",
    "LARGE_FONT = 48\n",
    "\n",
    "# Colors\n",
    "C_HIGHLIGHT = TEAL_C\n",
    "C_EMPHASIS = ORANGE"
   ]
  },
  {
   "cell_type": "code",
   "execution_count": 232,
   "metadata": {},
   "outputs": [],
   "source": [
    "from math import acos, atan2, cos, sin\n",
    "\n",
    "def squared_norm(vector: np.array) -> float:\n",
    "    return np.dot(vector, vector)\n",
    "\n",
    "def norm(vector: np.array) -> float:\n",
    "    \"\"\"\n",
    "    Returns the length of a vector.\n",
    "    \"\"\"\n",
    "    return squared_norm(vector) ** 0.5\n",
    "\n",
    "\n",
    "def normalize(vector: np.array) -> np.array:\n",
    "    \"\"\"\n",
    "    Returns the vector normalized so that it has length 1.\n",
    "    \"\"\"\n",
    "    return vector / norm(vector)\n",
    "\n",
    "def circle_to_circle_tangent(center1: np.array, radius1: float, center2: np.array, radius2: float) -> List[np.array]:\n",
    "    \"\"\"\n",
    "    Returns the outer tangent line between two circles.\n",
    "    The tangent is such that it is on the outside of 1 and 2 when they are arranged in counter-clockwise fashion.\n",
    "    \"\"\"\n",
    "    radius1 *= -1\n",
    "    radius2 *= -1\n",
    "    dist = norm(center2 - center1)\n",
    "\n",
    "    delta = (center2 - center1) / dist\n",
    "    cross = np.array([-delta[1], delta[0], 0])\n",
    "    alpha = (radius1 - radius2) / dist\n",
    "    beta = (1 - alpha ** 2) ** 0.5\n",
    "    return [\n",
    "        center1 + (alpha * delta + beta * cross) * radius1,\n",
    "        center2 + (alpha * delta + beta * cross) * radius2\n",
    "    ]\n",
    "\n",
    "def circle_to_point_tangent(center: np.array, radius: float, point: np.array) -> np.array:\n",
    "    dist = norm(point - center)\n",
    "    angle = acos(radius / dist)\n",
    "    angle_offset = atan2(point[1] - center[1], point[0] - center[0])\n",
    "    return np.array([\n",
    "        center[0] + radius * cos(angle_offset - angle),\n",
    "        center[1] + radius * sin(angle_offset - angle),\n",
    "        0\n",
    "    ])\n",
    "\n",
    "def circle_to_point_tangent(point: np.array, center: np.array, radius: float) -> List[float]:\n",
    "    return circle_to_circle_tangent(center, -radius, point)"
   ]
  },
  {
   "cell_type": "code",
   "execution_count": 233,
   "metadata": {},
   "outputs": [],
   "source": [
    "\n",
    "T = TypeVar('T')\n",
    "class PlateCircle(VGroup):\n",
    "    def __init__(self, radius: float, offset: float) -> None:\n",
    "        self._radius = radius\n",
    "        self._offset = offset\n",
    "\n",
    "        self._inner_circle = Circle(self.inner_radius())\n",
    "        self._outer_circle = Circle(self.outer_radius())\n",
    "        super().__init__(self._inner_circle, self._outer_circle)\n",
    "\n",
    "    @staticmethod\n",
    "    def tangent_points(start, end) -> List[np.array]:\n",
    "        return circle_to_circle_tangent(start.center(), start.outer_radius(), end.center(), end.outer_radius())\n",
    "\n",
    "    @staticmethod\n",
    "    def tangent_line(start, end) -> List[np.array]:\n",
    "        return Line(*PlateCircle.tangent_points(start, end))\n",
    "\n",
    "    def inner_circle(self):\n",
    "        return self._inner_circle\n",
    "\n",
    "    def outer_circle(self):\n",
    "        return self._outer_circle\n",
    "\n",
    "    def center(self) -> np.array:\n",
    "        return self.inner_circle().get_center()\n",
    "    \n",
    "    def inner_radius(self) -> float:\n",
    "        return self._radius\n",
    "    \n",
    "    def outer_radius(self) -> float:\n",
    "        return self._radius + self._offset\n",
    "    \n",
    "    def copy(self: T, center: np.array) -> T:\n",
    "        return super().copy().move_to(center)\n",
    "    \n",
    "    def draw_inner_circle(self) -> Animation:\n",
    "        return GrowFromCenter(self.inner_circle())\n",
    "    \n",
    "    def draw_outer_circle(self) -> Animation:\n",
    "        return GrowFromCenter(self.outer_circle())"
   ]
  },
  {
   "cell_type": "code",
   "execution_count": 292,
   "metadata": {},
   "outputs": [],
   "source": [
    "class Plate(VGroup):\n",
    "    def __init__(self, points: List[PlateCircle], boundary_order: List[int]) -> None:\n",
    "        self._points = points\n",
    "        self._boundary = [points[i] for i in boundary_order]\n",
    "        # self._boundary = list(filter(lambda p: p not in self._inside, self._points))\n",
    "        self._boundary_segments = self._make_boundary_segments()\n",
    "\n",
    "        super().__init__(*[*self._points, *self._boundary_segments])\n",
    "\n",
    "    def _make_boundary_segments(self) -> List[Line]:\n",
    "        return [PlateCircle.tangent_line(self._boundary[i - 1], self._boundary[i]) for i in range(len(self._boundary))]\n",
    "    \n",
    "    def draw_inner_circles(self) -> Animation:\n",
    "        return AnimationGroup(*[x.draw_inner_circle() for x in self._points], lag_ratio=0.75)\n",
    "\n",
    "    def draw_outer_circles(self) -> Animation:\n",
    "        return AnimationGroup(*[x.draw_outer_circle() for x in self._points], lag_ratio=0.75)\n",
    "    \n",
    "    def draw_boundary(self) -> Animation:\n",
    "        return AnimationGroup(*[Create(x, run_time=1.25) for x in self._boundary_segments], lag_ratio=0.75)"
   ]
  },
  {
   "attachments": {},
   "cell_type": "markdown",
   "metadata": {},
   "source": [
    "The reccomend way to create plates is by first drawing your holes and other relevant geometry, marking out the outer boundary using a second set of circles, and then connecting the boundary with tangent lines."
   ]
  },
  {
   "cell_type": "code",
   "execution_count": 293,
   "metadata": {},
   "outputs": [
    {
     "name": "stderr",
     "output_type": "stream",
     "text": [
      "                                                                                                    \r"
     ]
    },
    {
     "data": {
      "text/html": [
       "<video src=\"media/jupyter/IntakePlateScene@2023-03-04@02-42-03.mp4\" controls autoplay loop style=\"max-width: 60%;\"  >\n",
       "      Your browser does not support the <code>video</code> element.\n",
       "    </video>"
      ],
      "text/plain": [
       "<IPython.core.display.Video object>"
      ]
     },
     "metadata": {},
     "output_type": "display_data"
    }
   ],
   "source": [
    "%%manim -v WARNING --disable_caching -$quality IntakePlateScene\n",
    "\n",
    "class IntakePlateScene(Scene):\n",
    "    def construct(self):\n",
    "        smallBase = PlateCircle(0.15, 0.2)\n",
    "        mediumBase = PlateCircle(0.4, 0.2)\n",
    "\n",
    "        front_hole = np.array([-4, -3, 0])\n",
    "        middle_hole = np.array([-1.5, 0.25, 0])\n",
    "        back_hole = np.array([2.5, 1.5, 0])\n",
    "        back_offset = np.array([0.8, 0.75, 0])\n",
    "\n",
    "        points = [\n",
    "            mediumBase.copy(front_hole),\n",
    "            mediumBase.copy(middle_hole),\n",
    "            mediumBase.copy(back_hole),\n",
    "            smallBase.copy(back_hole + back_offset),\n",
    "            smallBase.copy(back_hole + np.array([1, -0.2, 0])),\n",
    "            smallBase.copy((middle_hole + back_hole) / 2),\n",
    "            smallBase.copy((front_hole + middle_hole) / 2),\n",
    "        ]\n",
    "\n",
    "        boundary_order = [0, 4, 3, 1]\n",
    "        plate = Plate(points, boundary_order)\n",
    "\n",
    "        title = Text(\"1. Draw plate holes\", font_size=MED_FONT)\n",
    "        title.to_corner(UP + LEFT)\n",
    "        title_2 = Text(\"2. Add larger circles\", font_size=MED_FONT)\n",
    "        title_2.to_corner(UP + LEFT)\n",
    "        title_3 = Text(\"3. Connect boundary\", font_size=MED_FONT)\n",
    "        title_3.to_corner(UP + LEFT)\n",
    "        title_4 = Text(\"4. Cleanup\", font_size=MED_FONT)\n",
    "        title_4.to_corner(UP + LEFT)\n",
    "\n",
    "        self.play(Write(title), run_time=0.5)\n",
    "\n",
    "        self.play(plate.draw_inner_circles())\n",
    "        self.wait(1)\n",
    "\n",
    "        self.play(Transform(title, title_2), run_time=1)\n",
    "        self.play(plate.draw_outer_circles())\n",
    "        self.wait(1)\n",
    "\n",
    "        self.play(Transform(title, title_3), run_time=1)\n",
    "        self.play(plate.draw_boundary())\n",
    "        self.wait(3)"
   ]
  },
  {
   "attachments": {},
   "cell_type": "markdown",
   "metadata": {},
   "source": [
    "In the event a hole is too close to the edge of a plate, you may need to redraw the boundary."
   ]
  },
  {
   "cell_type": "code",
   "execution_count": 239,
   "metadata": {},
   "outputs": [
    {
     "name": "stderr",
     "output_type": "stream",
     "text": [
      "                                                                                                    \r"
     ]
    },
    {
     "data": {
      "text/html": [
       "<video src=\"media/jupyter/BoundaryRedrawScene@2023-03-04@00-28-20.mp4\" controls autoplay loop style=\"max-width: 60%;\"  >\n",
       "      Your browser does not support the <code>video</code> element.\n",
       "    </video>"
      ],
      "text/plain": [
       "<IPython.core.display.Video object>"
      ]
     },
     "metadata": {},
     "output_type": "display_data"
    }
   ],
   "source": [
    "%%manim -v WARNING $quality BoundaryRedrawScene\n",
    "\n",
    "class BoundaryRedrawScene(Scene):\n",
    "    def construct(self):\n",
    "        left = PlateCircle(1.75, 0.75)\n",
    "        right = PlateCircle(1.75, 0.75)\n",
    "        left.move_to([-6, -2, 0])\n",
    "        right.move_to([6, -2, 0])\n",
    "        self.add(left)\n",
    "        self.add(right)\n",
    "\n",
    "        line = PlateCircle.tangent_line(right, left)\n",
    "        self.add(line)\n",
    "\n",
    "        middle = PlateCircle(1, 0.75)\n",
    "        middle.move_to([0, -.75, 0])\n",
    "        self.add(middle.inner_circle())\n",
    "\n",
    "        title = Text(\"1. Add outer circle\", font_size=MED_FONT)\n",
    "        title.to_corner(LEFT + UP)\n",
    "        self.play(Write(title))\n",
    "        self.play(middle.draw_outer_circle())\n",
    "\n",
    "        title_2 = Text(\"2. Redraw boundary\", font_size=MED_FONT)\n",
    "        title_2.to_corner(LEFT + UP)\n",
    "        self.play(Transform(title, title_2))\n",
    "\n",
    "        self.play(Uncreate(line))\n",
    "        self.play(Create(PlateCircle.tangent_line(right, middle)))\n",
    "        self.play(Create(PlateCircle.tangent_line(middle, left)))\n",
    "        self.wait(3)"
   ]
  },
  {
   "cell_type": "code",
   "execution_count": 282,
   "metadata": {},
   "outputs": [],
   "source": [
    "class LineSegment(VGroup):\n",
    "    def __init__(self, start_point: np.array, end_point: np.array) -> None:\n",
    "        self._line = Line(start_point, end_point)\n",
    "        self._start = Dot(start_point)\n",
    "        self._end = Dot(end_point)\n",
    "        super().__init__(self._line, self._start, self._end)\n",
    "\n",
    "    def line(self) -> Line:\n",
    "        return self._line\n",
    "\n",
    "    def start_point(self) -> Dot:\n",
    "        return self._start\n",
    "\n",
    "    def end_point(self) -> Dot:\n",
    "        return self._end\n",
    "\n",
    "    def create(self) -> Animation:\n",
    "        return Succession(Create(self.start_point(), run_time=0.05), Create(self._line), Create(self.end_point(), run_time=0.05))\n",
    "    \n",
    "    def move_start(self, new_start_point: np.array, **kwargs) -> Animation:\n",
    "        return Transform(self, LineSegment(new_start_point, self._end.get_center()), **kwargs)\n",
    "\n",
    "    def move_end(self, new_end_point: np.array, **kwargs) -> Animation:\n",
    "        return Transform(self, LineSegment(self._start.get_center(), new_end_point), **kwargs)"
   ]
  },
  {
   "cell_type": "code",
   "execution_count": 285,
   "metadata": {},
   "outputs": [
    {
     "name": "stderr",
     "output_type": "stream",
     "text": [
      "                                                                                                     \r"
     ]
    },
    {
     "data": {
      "text/html": [
       "<video src=\"media/jupyter/LineConstraintScene@2023-03-04@02-37-20.mp4\" controls autoplay loop style=\"max-width: 60%;\"  >\n",
       "      Your browser does not support the <code>video</code> element.\n",
       "    </video>"
      ],
      "text/plain": [
       "<IPython.core.display.Video object>"
      ]
     },
     "metadata": {},
     "output_type": "display_data"
    }
   ],
   "source": [
    "%%manim -v WARNING -$quality LineConstraintScene\n",
    "\n",
    "class LineConstraintScene(Scene):\n",
    "    def construct(self):\n",
    "        left = PlateCircle(1.75, 0.75)\n",
    "        right = PlateCircle(1.75, 0.75)\n",
    "        left.move_to([-6, -2, 0])\n",
    "        right.move_to([6, -2, 0])\n",
    "        self.add(left)\n",
    "        self.add(right)\n",
    "\n",
    "        tangent_points = PlateCircle.tangent_points(right, left)\n",
    "\n",
    "        title = Text(\"1. Create line\", font_size=MED_FONT)\n",
    "        title.to_corner(LEFT + UP)\n",
    "        self.play(Write(title))\n",
    "\n",
    "        left_start_point = tangent_points[1] + [1.75, 0.75, 0]\n",
    "        right_start_point = tangent_points[0] + [-2, 0.5, 0]\n",
    "        line = LineSegment(left_start_point, right_start_point)\n",
    "\n",
    "        self.play(line.create())\n",
    "\n",
    "        title_2 = Text(\"2. Add coincident constraints\", font_size=MED_FONT)\n",
    "        title_2.to_corner(LEFT + UP)\n",
    "        self.play(Transform(title, title_2))\n",
    "\n",
    "        left_coincident_point = left.center() + normalize(left_start_point - left.center()) * left.outer_radius()\n",
    "        self.flash(line.start_point(), left)\n",
    "        self.play(line.move_start(left_coincident_point))\n",
    "\n",
    "        right_coincident_point = right.center() + normalize(right_start_point - right.center()) * right.outer_radius()\n",
    "        self.flash(line.end_point(), right)\n",
    "        self.play(line.move_end(right_coincident_point))\n",
    "\n",
    "\n",
    "        title_3 = Text(\"3. Add tangent constraints\", font_size=MED_FONT)\n",
    "        title_3.to_corner(LEFT + UP)\n",
    "        self.play(Transform(title, title_3))\n",
    "\n",
    "        self.flash(line.start_point(), left)\n",
    "        angle = angle_between_vectors(left_coincident_point - left.center(), tangent_points[1] - left.center())\n",
    "        self.play(line.move_start(tangent_points[1]), path_arc=angle, path_arg_centers=[left.center()])\n",
    "\n",
    "        self.flash(line.end_point(), right)\n",
    "        angle = -angle_between_vectors(right_coincident_point - right.center(), tangent_points[0] - right.center())\n",
    "        self.play(line.move_end(tangent_points[0]), path_arc=angle, path_arg_centers=[right.center()])\n",
    "\n",
    "        self.wait(3)\n",
    "    \n",
    "    def flash(self, point, circle):\n",
    "        self.play(Flash(point), run_time=0.75)\n",
    "        self.play(Flash(circle, flash_radius=circle.outer_radius(), num_lines=40), run_time=0.75)\n"
   ]
  }
 ],
 "metadata": {
  "kernelspec": {
   "display_name": "Python 3",
   "language": "python",
   "name": "python3"
  },
  "language_info": {
   "codemirror_mode": {
    "name": "ipython",
    "version": 3
   },
   "file_extension": ".py",
   "mimetype": "text/x-python",
   "name": "python",
   "nbconvert_exporter": "python",
   "pygments_lexer": "ipython3",
   "version": "3.9.2"
  },
  "orig_nbformat": 4,
  "vscode": {
   "interpreter": {
    "hash": "eb4a0ac80907d7f44e1a5e88d3d3381b33e3dbedd3a24d113e876f30a0c46bee"
   }
  }
 },
 "nbformat": 4,
 "nbformat_minor": 2
}
