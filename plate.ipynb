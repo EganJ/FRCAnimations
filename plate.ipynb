{
 "cells": [
  {
   "cell_type": "code",
   "execution_count": 6,
   "metadata": {},
   "outputs": [],
   "source": []
  },
  {
   "attachments": {},
   "cell_type": "markdown",
   "metadata": {},
   "source": [
    "The reccomend way to create plates is by first drawing your holes and other relevant geometry, marking out the outer boundary using a second set of circles, and then connecting the boundary with tangent lines."
   ]
  },
  {
   "cell_type": "code",
   "execution_count": 7,
   "metadata": {},
   "outputs": [
    {
     "ename": "TypeError",
     "evalue": "Object 0.75 cannot be converted to an animation",
     "output_type": "error",
     "traceback": [
      "\u001b[0;31m---------------------------------------------------------------------------\u001b[0m",
      "\u001b[0;31mTypeError\u001b[0m                                 Traceback (most recent call last)",
      "Cell \u001b[0;32mIn[7], line 1\u001b[0m\n\u001b[0;32m----> 1\u001b[0m get_ipython()\u001b[39m.\u001b[39;49mrun_cell_magic(\u001b[39m'\u001b[39;49m\u001b[39mmanim\u001b[39;49m\u001b[39m'\u001b[39;49m, \u001b[39m'\u001b[39;49m\u001b[39m-v WARNING -$quality IntakePlateScene\u001b[39;49m\u001b[39m'\u001b[39;49m, \u001b[39m'\u001b[39;49m\u001b[39m\\n\u001b[39;49;00m\u001b[39mfrom common.design import plate\u001b[39;49m\u001b[39m\\n\u001b[39;49;00m\u001b[39mfrom common.view import style, sequential_title\u001b[39;49m\u001b[39m\\n\u001b[39;49;00m\u001b[39mfrom common.calc import tangent, util\u001b[39;49m\u001b[39m\\n\u001b[39;49;00m\u001b[39m\\n\u001b[39;49;00m\u001b[39mclass IntakePlateScene(Scene):\u001b[39;49m\u001b[39m\\n\u001b[39;49;00m\u001b[39m    def construct(self):\u001b[39;49m\u001b[39m\\n\u001b[39;49;00m\u001b[39m        small_base = plate.PlateCircle.make(0.15, 0.2)\u001b[39;49m\u001b[39m\\n\u001b[39;49;00m\u001b[39m        medium_base = plate.PlateCircle.make(0.4, 0.2)\u001b[39;49m\u001b[39m\\n\u001b[39;49;00m\u001b[39m\\n\u001b[39;49;00m\u001b[39m        front_hole = util.point(-4, -3)\u001b[39;49m\u001b[39m\\n\u001b[39;49;00m\u001b[39m        middle_hole = util.point(-1.5, 0.25)\u001b[39;49m\u001b[39m\\n\u001b[39;49;00m\u001b[39m        back_hole = util.point(2.5, 1.5)\u001b[39;49m\u001b[39m\\n\u001b[39;49;00m\u001b[39m\\n\u001b[39;49;00m\u001b[39m        # back_offset = util.point(0.8, 0.75)\u001b[39;49m\u001b[39m\\n\u001b[39;49;00m\u001b[39m\\n\u001b[39;49;00m\u001b[39m        points = [\u001b[39;49m\u001b[39m\\n\u001b[39;49;00m\u001b[39m            medium_base.copy(front_hole),\u001b[39;49m\u001b[39m\\n\u001b[39;49;00m\u001b[39m            medium_base.copy(middle_hole),\u001b[39;49m\u001b[39m\\n\u001b[39;49;00m\u001b[39m            medium_base.copy(back_hole),\u001b[39;49m\u001b[39m\\n\u001b[39;49;00m\u001b[39m            # small_base.copy(back_hole + back_offset),\u001b[39;49m\u001b[39m\\n\u001b[39;49;00m\u001b[39m            small_base.copy(back_hole + util.point(1, -0.2)),\u001b[39;49m\u001b[39m\\n\u001b[39;49;00m\u001b[39m            small_base.copy((middle_hole + back_hole) / 2),\u001b[39;49m\u001b[39m\\n\u001b[39;49;00m\u001b[39m            small_base.copy((front_hole + middle_hole) / 2),\u001b[39;49m\u001b[39m\\n\u001b[39;49;00m\u001b[39m        ]\u001b[39;49m\u001b[39m\\n\u001b[39;49;00m\u001b[39m\\n\u001b[39;49;00m\u001b[39m        boundary_order = [0, 1, 3, 4]\u001b[39;49m\u001b[39m\\n\u001b[39;49;00m\u001b[39m        platey = plate.Plate(points, boundary_order)\u001b[39;49m\u001b[39m\\n\u001b[39;49;00m\u001b[39m        # titles = sequential_title.SequentialTitle([\u001b[39;49m\u001b[39m\"\u001b[39;49m\u001b[39mDraw plate holes\u001b[39;49m\u001b[39m\"\u001b[39;49m\u001b[39m, \u001b[39;49m\u001b[39m\"\u001b[39;49m\u001b[39mAdd larger circles\u001b[39;49m\u001b[39m\"\u001b[39;49m\u001b[39m, \u001b[39;49m\u001b[39m\"\u001b[39;49m\u001b[39mConnect boundary\u001b[39;49m\u001b[39m\"\u001b[39;49m\u001b[39m])\u001b[39;49m\u001b[39m\\n\u001b[39;49;00m\u001b[39m\\n\u001b[39;49;00m\u001b[39m        # self.play(titles.next(), run_time=0.5)\u001b[39;49m\u001b[39m\\n\u001b[39;49;00m\u001b[39m        self.play(platey.draw_inner_circles(), run_time=1.5)\u001b[39;49m\u001b[39m\\n\u001b[39;49;00m\u001b[39m        self.wait(1)\u001b[39;49m\u001b[39m\\n\u001b[39;49;00m\u001b[39m\\n\u001b[39;49;00m\u001b[39m        # self.play(titles.next(), run_time=0.5)\u001b[39;49m\u001b[39m\\n\u001b[39;49;00m\u001b[39m        self.play(platey.draw_outer_circles(), run_time=1.5)\u001b[39;49m\u001b[39m\\n\u001b[39;49;00m\u001b[39m        self.wait(1)\u001b[39;49m\u001b[39m\\n\u001b[39;49;00m\u001b[39m\\n\u001b[39;49;00m\u001b[39m        # self.play(titles.next(), run_time=0.5)\u001b[39;49m\u001b[39m\\n\u001b[39;49;00m\u001b[39m        self.play(platey.draw_boundary(), run_time=2)\u001b[39;49m\u001b[39m\\n\u001b[39;49;00m\u001b[39m        self.wait(3)\u001b[39;49m\u001b[39m\\n\u001b[39;49;00m\u001b[39m'\u001b[39;49m)\n",
      "File \u001b[0;32m~/.local/lib/python3.9/site-packages/IPython/core/interactiveshell.py:2430\u001b[0m, in \u001b[0;36mInteractiveShell.run_cell_magic\u001b[0;34m(self, magic_name, line, cell)\u001b[0m\n\u001b[1;32m   2428\u001b[0m \u001b[39mwith\u001b[39;00m \u001b[39mself\u001b[39m\u001b[39m.\u001b[39mbuiltin_trap:\n\u001b[1;32m   2429\u001b[0m     args \u001b[39m=\u001b[39m (magic_arg_s, cell)\n\u001b[0;32m-> 2430\u001b[0m     result \u001b[39m=\u001b[39m fn(\u001b[39m*\u001b[39;49margs, \u001b[39m*\u001b[39;49m\u001b[39m*\u001b[39;49mkwargs)\n\u001b[1;32m   2432\u001b[0m \u001b[39m# The code below prevents the output from being displayed\u001b[39;00m\n\u001b[1;32m   2433\u001b[0m \u001b[39m# when using magics with decodator @output_can_be_silenced\u001b[39;00m\n\u001b[1;32m   2434\u001b[0m \u001b[39m# when the last Python token in the expression is a ';'.\u001b[39;00m\n\u001b[1;32m   2435\u001b[0m \u001b[39mif\u001b[39;00m \u001b[39mgetattr\u001b[39m(fn, magic\u001b[39m.\u001b[39mMAGIC_OUTPUT_CAN_BE_SILENCED, \u001b[39mFalse\u001b[39;00m):\n",
      "File \u001b[0;32m~/.local/lib/python3.9/site-packages/manim/utils/ipython_magic.py:141\u001b[0m, in \u001b[0;36mManimMagic.manim\u001b[0;34m(self, line, cell, local_ns)\u001b[0m\n\u001b[1;32m    139\u001b[0m     SceneClass \u001b[39m=\u001b[39m local_ns[config[\u001b[39m\"\u001b[39m\u001b[39mscene_names\u001b[39m\u001b[39m\"\u001b[39m][\u001b[39m0\u001b[39m]]\n\u001b[1;32m    140\u001b[0m     scene \u001b[39m=\u001b[39m SceneClass(renderer\u001b[39m=\u001b[39mrenderer)\n\u001b[0;32m--> 141\u001b[0m     scene\u001b[39m.\u001b[39;49mrender()\n\u001b[1;32m    142\u001b[0m \u001b[39mfinally\u001b[39;00m:\n\u001b[1;32m    143\u001b[0m     \u001b[39m# Shader cache becomes invalid as the context is destroyed\u001b[39;00m\n\u001b[1;32m    144\u001b[0m     shader_program_cache\u001b[39m.\u001b[39mclear()\n",
      "File \u001b[0;32m~/.local/lib/python3.9/site-packages/manim/scene/scene.py:223\u001b[0m, in \u001b[0;36mScene.render\u001b[0;34m(self, preview)\u001b[0m\n\u001b[1;32m    221\u001b[0m \u001b[39mself\u001b[39m\u001b[39m.\u001b[39msetup()\n\u001b[1;32m    222\u001b[0m \u001b[39mtry\u001b[39;00m:\n\u001b[0;32m--> 223\u001b[0m     \u001b[39mself\u001b[39;49m\u001b[39m.\u001b[39;49mconstruct()\n\u001b[1;32m    224\u001b[0m \u001b[39mexcept\u001b[39;00m EndSceneEarlyException:\n\u001b[1;32m    225\u001b[0m     \u001b[39mpass\u001b[39;00m\n",
      "File \u001b[0;32m<string>:32\u001b[0m, in \u001b[0;36mconstruct\u001b[0;34m(self)\u001b[0m\n",
      "File \u001b[0;32m/workspaces/robot-concepts/common/design/plate.py:66\u001b[0m, in \u001b[0;36mPlate.draw_inner_circles\u001b[0;34m(self, lag_ratio, **kwargs)\u001b[0m\n\u001b[1;32m     65\u001b[0m \u001b[39mdef\u001b[39;00m \u001b[39mdraw_inner_circles\u001b[39m(\u001b[39mself\u001b[39m, lag_ratio: Optional[\u001b[39mfloat\u001b[39m] \u001b[39m=\u001b[39m \u001b[39m0.75\u001b[39m, \u001b[39m*\u001b[39m\u001b[39m*\u001b[39mkwargs) \u001b[39m-\u001b[39m\u001b[39m>\u001b[39m Animation:\n\u001b[0;32m---> 66\u001b[0m     \u001b[39mreturn\u001b[39;00m AnimationGroup(\u001b[39m*\u001b[39;49m[x\u001b[39m.\u001b[39;49mdraw_inner_circle() \u001b[39mfor\u001b[39;49;00m x \u001b[39min\u001b[39;49;00m \u001b[39mself\u001b[39;49m\u001b[39m.\u001b[39;49m_points], lag_ratio, \u001b[39m*\u001b[39;49m\u001b[39m*\u001b[39;49mkwargs)\n",
      "File \u001b[0;32m~/.local/lib/python3.9/site-packages/manim/animation/composition.py:64\u001b[0m, in \u001b[0;36mAnimationGroup.__init__\u001b[0;34m(self, group, run_time, rate_func, lag_ratio, *animations, **kwargs)\u001b[0m\n\u001b[1;32m     55\u001b[0m \u001b[39mdef\u001b[39;00m \u001b[39m__init__\u001b[39m(\n\u001b[1;32m     56\u001b[0m     \u001b[39mself\u001b[39m,\n\u001b[1;32m     57\u001b[0m     \u001b[39m*\u001b[39manimations: Animation,\n\u001b[0;32m   (...)\u001b[0m\n\u001b[1;32m     62\u001b[0m     \u001b[39m*\u001b[39m\u001b[39m*\u001b[39mkwargs,\n\u001b[1;32m     63\u001b[0m ) \u001b[39m-\u001b[39m\u001b[39m>\u001b[39m \u001b[39mNone\u001b[39;00m:\n\u001b[0;32m---> 64\u001b[0m     \u001b[39mself\u001b[39m\u001b[39m.\u001b[39manimations \u001b[39m=\u001b[39m [prepare_animation(anim) \u001b[39mfor\u001b[39;00m anim \u001b[39min\u001b[39;00m animations]\n\u001b[1;32m     65\u001b[0m     \u001b[39mself\u001b[39m\u001b[39m.\u001b[39mrate_func \u001b[39m=\u001b[39m rate_func\n\u001b[1;32m     66\u001b[0m     \u001b[39mself\u001b[39m\u001b[39m.\u001b[39mgroup \u001b[39m=\u001b[39m group\n",
      "File \u001b[0;32m~/.local/lib/python3.9/site-packages/manim/animation/composition.py:64\u001b[0m, in \u001b[0;36m<listcomp>\u001b[0;34m(.0)\u001b[0m\n\u001b[1;32m     55\u001b[0m \u001b[39mdef\u001b[39;00m \u001b[39m__init__\u001b[39m(\n\u001b[1;32m     56\u001b[0m     \u001b[39mself\u001b[39m,\n\u001b[1;32m     57\u001b[0m     \u001b[39m*\u001b[39manimations: Animation,\n\u001b[0;32m   (...)\u001b[0m\n\u001b[1;32m     62\u001b[0m     \u001b[39m*\u001b[39m\u001b[39m*\u001b[39mkwargs,\n\u001b[1;32m     63\u001b[0m ) \u001b[39m-\u001b[39m\u001b[39m>\u001b[39m \u001b[39mNone\u001b[39;00m:\n\u001b[0;32m---> 64\u001b[0m     \u001b[39mself\u001b[39m\u001b[39m.\u001b[39manimations \u001b[39m=\u001b[39m [prepare_animation(anim) \u001b[39mfor\u001b[39;00m anim \u001b[39min\u001b[39;00m animations]\n\u001b[1;32m     65\u001b[0m     \u001b[39mself\u001b[39m\u001b[39m.\u001b[39mrate_func \u001b[39m=\u001b[39m rate_func\n\u001b[1;32m     66\u001b[0m     \u001b[39mself\u001b[39m\u001b[39m.\u001b[39mgroup \u001b[39m=\u001b[39m group\n",
      "File \u001b[0;32m~/.local/lib/python3.9/site-packages/manim/animation/animation.py:518\u001b[0m, in \u001b[0;36mprepare_animation\u001b[0;34m(anim)\u001b[0m\n\u001b[1;32m    515\u001b[0m \u001b[39mif\u001b[39;00m \u001b[39misinstance\u001b[39m(anim, Animation):\n\u001b[1;32m    516\u001b[0m     \u001b[39mreturn\u001b[39;00m anim\n\u001b[0;32m--> 518\u001b[0m \u001b[39mraise\u001b[39;00m \u001b[39mTypeError\u001b[39;00m(\u001b[39mf\u001b[39m\u001b[39m\"\u001b[39m\u001b[39mObject \u001b[39m\u001b[39m{\u001b[39;00manim\u001b[39m}\u001b[39;00m\u001b[39m cannot be converted to an animation\u001b[39m\u001b[39m\"\u001b[39m)\n",
      "\u001b[0;31mTypeError\u001b[0m: Object 0.75 cannot be converted to an animation"
     ]
    }
   ],
   "source": []
  },
  {
   "attachments": {},
   "cell_type": "markdown",
   "metadata": {},
   "source": [
    "In the event a hole is too close to the edge of a plate, you may need to redraw the boundary."
   ]
  },
  {
   "cell_type": "code",
   "execution_count": null,
   "metadata": {},
   "outputs": [
    {
     "name": "stderr",
     "output_type": "stream",
     "text": [
      "                                                                                                    \r"
     ]
    },
    {
     "data": {
      "text/html": [
       "<video src=\"media/jupyter/BoundaryRedrawScene@2023-03-04@00-28-20.mp4\" controls autoplay loop style=\"max-width: 60%;\"  >\n",
       "      Your browser does not support the <code>video</code> element.\n",
       "    </video>"
      ],
      "text/plain": [
       "<IPython.core.display.Video object>"
      ]
     },
     "metadata": {},
     "output_type": "display_data"
    }
   ],
   "source": [
    "%%manim -v WARNING $quality BoundaryRedrawScene\n",
    "\n",
    "class BoundaryRedrawScene(Scene):\n",
    "    def construct(self):\n",
    "        left = PlateCircle(1.75, 0.75)\n",
    "        right = PlateCircle(1.75, 0.75)\n",
    "        left.move_to([-6, -2, 0])\n",
    "        right.move_to([6, -2, 0])\n",
    "        self.add(left)\n",
    "        self.add(right)\n",
    "\n",
    "        line = PlateCircle.tangent_line(right, left)\n",
    "        self.add(line)\n",
    "\n",
    "        middle = PlateCircle(1, 0.75)\n",
    "        middle.move_to([0, -.75, 0])\n",
    "        self.add(middle.inner_circle())\n",
    "\n",
    "        title = Text(\"1. Add outer circle\", font_size=MED_FONT)\n",
    "        title.to_corner(LEFT + UP)\n",
    "        self.play(Write(title))\n",
    "        self.play(middle.draw_outer_circle())\n",
    "\n",
    "        title_2 = Text(\"2. Redraw boundary\", font_size=MED_FONT)\n",
    "        title_2.to_corner(LEFT + UP)\n",
    "        self.play(Transform(title, title_2))\n",
    "\n",
    "        self.play(Uncreate(line))\n",
    "        self.play(Create(PlateCircle.tangent_line(right, middle)))\n",
    "        self.play(Create(PlateCircle.tangent_line(middle, left)))\n",
    "        self.wait(3)"
   ]
  },
  {
   "cell_type": "code",
   "execution_count": null,
   "metadata": {},
   "outputs": [
    {
     "name": "stderr",
     "output_type": "stream",
     "text": [
      "                                                                                                     \r"
     ]
    },
    {
     "data": {
      "text/html": [
       "<video src=\"media/jupyter/LineConstraintScene@2023-03-04@02-37-20.mp4\" controls autoplay loop style=\"max-width: 60%;\"  >\n",
       "      Your browser does not support the <code>video</code> element.\n",
       "    </video>"
      ],
      "text/plain": [
       "<IPython.core.display.Video object>"
      ]
     },
     "metadata": {},
     "output_type": "display_data"
    }
   ],
   "source": [
    "%%manim -v WARNING -$quality LineConstraintScene\n",
    "\n",
    "class LineConstraintScene(Scene):\n",
    "    def construct(self):\n",
    "        left = PlateCircle(1.75, 0.75)\n",
    "        right = PlateCircle(1.75, 0.75)\n",
    "        left.move_to([-6, -2, 0])\n",
    "        right.move_to([6, -2, 0])\n",
    "        self.add(left)\n",
    "        self.add(right)\n",
    "\n",
    "        tangent_points = PlateCircle.tangent_points(right, left)\n",
    "\n",
    "        title = Text(\"1. Create line\", font_size=MED_FONT)\n",
    "        title.to_corner(LEFT + UP)\n",
    "        self.play(Write(title))\n",
    "\n",
    "        left_start_point = tangent_points[1] + [1.75, 0.75, 0]\n",
    "        right_start_point = tangent_points[0] + [-2, 0.5, 0]\n",
    "        line = LineSegment(left_start_point, right_start_point)\n",
    "\n",
    "        self.play(line.create())\n",
    "\n",
    "        title_2 = Text(\"2. Add coincident constraints\", font_size=MED_FONT)\n",
    "        title_2.to_corner(LEFT + UP)\n",
    "        self.play(Transform(title, title_2))\n",
    "\n",
    "        left_coincident_point = left.center() + normalize(left_start_point - left.center()) * left.outer_radius()\n",
    "        self.flash(line.start_point(), left)\n",
    "        self.play(line.move_start(left_coincident_point))\n",
    "\n",
    "        right_coincident_point = right.center() + normalize(right_start_point - right.center()) * right.outer_radius()\n",
    "        self.flash(line.end_point(), right)\n",
    "        self.play(line.move_end(right_coincident_point))\n",
    "\n",
    "\n",
    "        title_3 = Text(\"3. Add tangent constraints\", font_size=MED_FONT)\n",
    "        title_3.to_corner(LEFT + UP)\n",
    "        self.play(Transform(title, title_3))\n",
    "\n",
    "        self.flash(line.start_point(), left)\n",
    "        angle = angle_between_vectors(left_coincident_point - left.center(), tangent_points[1] - left.center())\n",
    "        self.play(line.move_start(tangent_points[1]), path_arc=angle, path_arg_centers=[left.center()])\n",
    "\n",
    "        self.flash(line.end_point(), right)\n",
    "        angle = -angle_between_vectors(right_coincident_point - right.center(), tangent_points[0] - right.center())\n",
    "        self.play(line.move_end(tangent_points[0]), path_arc=angle, path_arg_centers=[right.center()])\n",
    "\n",
    "        self.wait(3)\n",
    "    \n",
    "    def flash(self, point, circle):\n",
    "        self.play(Flash(point), run_time=0.75)\n",
    "        self.play(Flash(circle, flash_radius=circle.outer_radius(), num_lines=40), run_time=0.75)\n"
   ]
  }
 ],
 "metadata": {
  "kernelspec": {
   "display_name": "Python 3",
   "language": "python",
   "name": "python3"
  },
  "language_info": {
   "codemirror_mode": {
    "name": "ipython",
    "version": 3
   },
   "file_extension": ".py",
   "mimetype": "text/x-python",
   "name": "python",
   "nbconvert_exporter": "python",
   "pygments_lexer": "ipython3",
   "version": "3.9.2"
  },
  "orig_nbformat": 4,
  "vscode": {
   "interpreter": {
    "hash": "eb4a0ac80907d7f44e1a5e88d3d3381b33e3dbedd3a24d113e876f30a0c46bee"
   }
  }
 },
 "nbformat": 4,
 "nbformat_minor": 2
}
